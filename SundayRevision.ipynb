{
 "cells": [
  {
   "cell_type": "code",
   "execution_count": null,
   "metadata": {},
   "outputs": [],
   "source": [
    "import sys\n",
    "\n",
    "print(\"Welcome\")\n",
    "print(sys.argv[0])\n",
    "print(sys.argv[1])\n",
    "print(sys.argv[1])\n",
    "print(type(sys.argv[0]))"
   ]
  },
  {
   "cell_type": "code",
   "execution_count": null,
   "metadata": {},
   "outputs": [],
   "source": [
    "import py_compile\n",
    "\n",
    "print(\"hello world\")\n",
    "#py_compile.compile('filename.py') #pycache folder will be generated"
   ]
  },
  {
   "cell_type": "code",
   "execution_count": null,
   "metadata": {},
   "outputs": [],
   "source": [
    "from sys import argv\n",
    "\n",
    "print(\"hello world\")\n",
    "\n",
    "for data in argv:\n",
    "    print(\"inside for loop\",data)\n",
    "    print(type(data))\n",
    "\n",
    "print('for loop has finished')"
   ]
  },
  {
   "cell_type": "code",
   "execution_count": null,
   "metadata": {},
   "outputs": [],
   "source": [
    "print(\"hello my\\\"name in\\\"s\")"
   ]
  },
  {
   "cell_type": "code",
   "execution_count": null,
   "metadata": {},
   "outputs": [],
   "source": [
    "lst = []\n",
    "n = input()\n",
    "str1 = float(n)\n",
    "\n",
    "for i in range(str1):\n",
    "    print(str1)\n",
    "    inputvalue = input(\"enter the numbers\")\n",
    "    lst.insert(i,inputvalue)\n",
    "print(lst)"
   ]
  },
  {
   "cell_type": "code",
   "execution_count": null,
   "metadata": {},
   "outputs": [],
   "source": [
    "def calc():\n",
    "    '''I AM IN DEMO DOCSTRING'''\n",
    "    \n",
    "help(calc)"
   ]
  },
  {
   "cell_type": "code",
   "execution_count": null,
   "metadata": {},
   "outputs": [],
   "source": [
    "print(calc.__doc__)"
   ]
  },
  {
   "cell_type": "code",
   "execution_count": null,
   "metadata": {},
   "outputs": [],
   "source": [
    "def inputforsum(n):\n",
    "    for i in range(n):\n",
    "        n1 = input()\n",
    "        lst.append(n1)\n",
    " \n",
    "def findmaxsum():\n",
    "    '''\n",
    "    write ure code here to find max sum of pairs\n",
    "    '''\n",
    "\n",
    "lst = [] \n",
    "n = input('Enter range of number you want in a list:')\n",
    "n = int(n)\n",
    "inputforsum(n)\n",
    "print(lst)"
   ]
  },
  {
   "cell_type": "code",
   "execution_count": null,
   "metadata": {},
   "outputs": [],
   "source": [
    "def add():\n",
    "    print('performs addition')\n",
    "def sub():\n",
    "    print('first call to sub method from main()')\n",
    "    \n",
    "if __name__ == '__main__':\n",
    "    sub()\n",
    "    \n",
    "add()"
   ]
  },
  {
   "cell_type": "code",
   "execution_count": null,
   "metadata": {},
   "outputs": [],
   "source": [
    "print(3e2)"
   ]
  },
  {
   "cell_type": "code",
   "execution_count": null,
   "metadata": {},
   "outputs": [],
   "source": [
    "print(3E2) #(3 times 10 to the power of 2) "
   ]
  },
  {
   "cell_type": "code",
   "execution_count": null,
   "metadata": {},
   "outputs": [],
   "source": [
    "print('{0:<8} | {1:>9}'.format('rows','columns'))\n",
    "print('{0:8} | {1:9}'.format('1',2))"
   ]
  },
  {
   "cell_type": "code",
   "execution_count": null,
   "metadata": {},
   "outputs": [],
   "source": [
    "import math\n",
    "import inspect\n",
    "\n",
    "def foo():\n",
    "    print('hello world')\n",
    "    x = a\n",
    "    y = b\n",
    "    z = a + b\n",
    "\n",
    "\n",
    "print(inspect.getsource(foo))"
   ]
  },
  {
   "cell_type": "code",
   "execution_count": null,
   "metadata": {},
   "outputs": [],
   "source": [
    "res=(lambda num,power: num**power)\n",
    "print(res(2,5))"
   ]
  },
  {
   "cell_type": "code",
   "execution_count": null,
   "metadata": {},
   "outputs": [],
   "source": [
    "def fun(n):\n",
    "    return lambda x :x*n\n",
    "\n",
    "func_1 = fun(7)\n",
    "print(func_1(1))\n",
    "\n",
    "func_2 = fun(9)\n",
    "print(func_2(2))"
   ]
  },
  {
   "cell_type": "code",
   "execution_count": null,
   "metadata": {},
   "outputs": [],
   "source": [
    "res = list(range(2,10,2))\n",
    "print(res)"
   ]
  },
  {
   "cell_type": "markdown",
   "metadata": {},
   "source": [
    "## Python Program to Find the Largest Number in a List\n",
    "\n",
    "1. Take in the number of elements of the list one by one.\n",
    "2. Sort the list in ascending order\n",
    "4. print the last element\n",
    "5. exit"
   ]
  },
  {
   "cell_type": "code",
   "execution_count": null,
   "metadata": {},
   "outputs": [],
   "source": [
    "lst1 = []\n",
    "\n",
    "number = int(input(\"Enter the number of elements:\"))\n",
    "\n",
    "for i in range(1,number+1):\n",
    "    b = int(input('Enter element:'))\n",
    "    lst1.append(b)\n",
    "\n",
    "lst1.sort()\n",
    "print('Largest element is: ',lst1[-1])"
   ]
  },
  {
   "cell_type": "code",
   "execution_count": null,
   "metadata": {},
   "outputs": [],
   "source": [
    "#Python Program to Find the Second Largest Number in a List\n",
    "'''\n",
    "sort the list and print 2nd last index\n",
    "'''\n",
    "\n",
    "lst1 = []\n",
    "\n",
    "number = int(input(\"Enter the number of elements:\"))\n",
    "\n",
    "for i in range(1,number+1):\n",
    "    b = int(input('Enter element:'))\n",
    "    lst1.append(b)\n",
    "\n",
    "lst1.sort()\n",
    "print('Largest element is: ',lst1[-2])"
   ]
  },
  {
   "cell_type": "code",
   "execution_count": null,
   "metadata": {},
   "outputs": [],
   "source": [
    "def even_filter(lst):\n",
    "    for i in lst:\n",
    "        if i%2==0:\n",
    "            lst1.append(i)\n",
    "    \n",
    "if __name__ == '__main__':\n",
    "    lst = list(range(0,11))\n",
    "    print(lst)\n",
    "    lst1 = []\n",
    "    even_filter(lst)\n",
    "    print(lst1)"
   ]
  },
  {
   "cell_type": "code",
   "execution_count": null,
   "metadata": {},
   "outputs": [],
   "source": [
    "lst = list(range(0,51))\n",
    "\n",
    "res = list(filter(lambda x : x%2 == 0,lst))\n",
    "\n",
    "print(res)"
   ]
  },
  {
   "cell_type": "code",
   "execution_count": null,
   "metadata": {},
   "outputs": [],
   "source": [
    "lst = list(range(0,11))\n",
    "\n",
    "res = list(map(lambda x : x**2,lst))"
   ]
  },
  {
   "cell_type": "code",
   "execution_count": null,
   "metadata": {},
   "outputs": [],
   "source": [
    "print(res)\n",
    "print(lst)"
   ]
  },
  {
   "cell_type": "code",
   "execution_count": null,
   "metadata": {},
   "outputs": [],
   "source": [
    "print(id(res))\n",
    "print(id(lst))"
   ]
  },
  {
   "cell_type": "code",
   "execution_count": null,
   "metadata": {},
   "outputs": [],
   "source": [
    "from functools import reduce\n",
    "\n",
    "lst = list(range(0,15))\n",
    "res = reduce(lambda x,y : x+y,lst)\n",
    "print(res)"
   ]
  },
  {
   "cell_type": "code",
   "execution_count": null,
   "metadata": {},
   "outputs": [],
   "source": [
    "print(id(lst))\n",
    "print(id(res))"
   ]
  },
  {
   "cell_type": "markdown",
   "metadata": {},
   "source": [
    "## Python Program to Put Even and Odd elements in a List into Two Different Lists\n",
    "\n",
    "1. Take in the number of elements and store it in a variable\n",
    "2. take in the elements of the list one by one\n",
    "3. use a for loop to traverse through the elements of the list and an if statement to check if the element is even or odd.\n",
    "4. If the element is even, append it to a separate list and if it is odd, append it to a different one.\n",
    "5. Display the elements in both the list."
   ]
  },
  {
   "cell_type": "code",
   "execution_count": null,
   "metadata": {},
   "outputs": [],
   "source": [
    "a = []\n",
    "n = int(input(\"Enter the number of elements:\"))\n",
    "\n",
    "for i in range(1,n+1):\n",
    "    b = int(input(\"enter element: \"))\n",
    "    a.append(b)\n",
    "\n",
    "print(a)\n",
    "even = []\n",
    "odd = []\n",
    "\n",
    "for i in a:\n",
    "    if (i%2 == 0):\n",
    "        even.append(i)\n",
    "    else:\n",
    "        odd.append(i)\n",
    "print('even list',even)\n",
    "print('odd list',odd)\n",
    "    "
   ]
  },
  {
   "cell_type": "code",
   "execution_count": null,
   "metadata": {},
   "outputs": [],
   "source": [
    "lst1 = [1,2,3]\n",
    "lst2 = [11,22,33]\n",
    "lst1.extend(lst2)\n",
    "print(lst1)\n"
   ]
  },
  {
   "cell_type": "code",
   "execution_count": 8,
   "metadata": {},
   "outputs": [
    {
     "name": "stdout",
     "output_type": "stream",
     "text": [
      "139882930801232\n",
      "139882929354544\n"
     ]
    }
   ],
   "source": [
    "#shallow copy\n",
    "\n",
    "lst1 = [1,2,3,4,5]\n",
    "lst3 = lst1[:]\n",
    "print(id(lst1))\n",
    "print(id(lst3))"
   ]
  },
  {
   "cell_type": "code",
   "execution_count": 12,
   "metadata": {},
   "outputs": [
    {
     "name": "stdout",
     "output_type": "stream",
     "text": [
      "140660388167184\n",
      "140660386715360\n",
      "[1, 2, [3], [5, 6, 5]]\n",
      "[1, 2, [3]]\n",
      "[4444, 2, [3], [5, 6, 5]]\n",
      "[1, 2, [3]]\n"
     ]
    }
   ],
   "source": [
    "name1 = [1,2,[3]]\n",
    "name2 = name1[:]\n",
    "\n",
    "print(id(name1))\n",
    "print(id(name2))\n",
    "\n",
    "\n",
    "name1.append([5,6,5])\n",
    "print(name1)\n",
    "print(name2)\n",
    "\n",
    "name1[0] = 4444\n",
    "print(name1)\n"
   ]
  },
  {
   "cell_type": "code",
   "execution_count": 13,
   "metadata": {},
   "outputs": [
    {
     "name": "stdout",
     "output_type": "stream",
     "text": [
      "[1, 2, [3]]\n"
     ]
    }
   ],
   "source": [
    "print(name2)"
   ]
  },
  {
   "cell_type": "code",
   "execution_count": 26,
   "metadata": {},
   "outputs": [
    {
     "name": "stdout",
     "output_type": "stream",
     "text": [
      "[110]\n",
      "1\n",
      "[110]\n"
     ]
    }
   ],
   "source": [
    "lst1 = list(range(110,111))\n",
    "lst2 = []\n",
    "print(lst1)\n",
    "print(len(lst1))\n",
    "\n",
    "for data in range(len(lst1)-1,-1,-1):\n",
    "    lst2.append(lst1[data])\n",
    "    \n",
    "print(lst2)"
   ]
  },
  {
   "cell_type": "markdown",
   "metadata": {},
   "source": [
    "## Python Program to Implement Bubble Sort\n",
    "\n",
    "1. Create a function bubble_sort"
   ]
  },
  {
   "cell_type": "code",
   "execution_count": 27,
   "metadata": {},
   "outputs": [
    {
     "data": {
      "text/plain": [
       "[110]"
      ]
     },
     "execution_count": 27,
     "metadata": {},
     "output_type": "execute_result"
    }
   ],
   "source": [
    "lst1"
   ]
  },
  {
   "cell_type": "code",
   "execution_count": 34,
   "metadata": {},
   "outputs": [
    {
     "data": {
      "text/plain": [
       "[5, 12, 34, 89, 90, 355]"
      ]
     },
     "execution_count": 34,
     "metadata": {},
     "output_type": "execute_result"
    }
   ],
   "source": [
    "lst1 = [355,89,34,90,12,5]\n",
    "lst4 = sorted(lst1,reverse=False)\n",
    "lst4"
   ]
  },
  {
   "cell_type": "code",
   "execution_count": 45,
   "metadata": {},
   "outputs": [
    {
     "name": "stdout",
     "output_type": "stream",
     "text": [
      "['chris', 'alan']\n",
      "['Chris', 'Alan']\n",
      "Chris Alan\n"
     ]
    }
   ],
   "source": [
    "#!/bin/python3\n",
    "\n",
    "import math\n",
    "import os\n",
    "import random\n",
    "import re\n",
    "import sys\n",
    "\n",
    "# Complete the solve function below.\n",
    "def solve(s):\n",
    "\n",
    "    str1 = s.split(\" \")\n",
    "    print(str1)\n",
    "\n",
    "    newlist = [letter.capitalize() for letter in str1]\n",
    "    print(newlist)\n",
    "    s2 = \" \"\n",
    "    s2 = s2.join(newlist)\n",
    "    print(s2)\n",
    "\n",
    "s = 'chris alan'\n",
    "solve(s)\n"
   ]
  },
  {
   "cell_type": "code",
   "execution_count": 42,
   "metadata": {},
   "outputs": [
    {
     "name": "stdout",
     "output_type": "stream",
     "text": [
      "1-2-3-4\n"
     ]
    }
   ],
   "source": [
    "\n",
    "# Python program to demonstrate the \n",
    "# use of join function to join list \n",
    "# elements with a character. \n",
    "  \n",
    "list1 = ['1','2','3','4']  \n",
    "  \n",
    "s = \"-\"\n",
    "  \n",
    "# joins elements of list1 by '-' \n",
    "# and stores in sting s \n",
    "s = s.join(list1) \n",
    "  \n",
    "# join use to join a list of \n",
    "# strings to a separator s \n",
    "print(s) \n"
   ]
  },
  {
   "cell_type": "code",
   "execution_count": null,
   "metadata": {},
   "outputs": [],
   "source": []
  }
 ],
 "metadata": {
  "kernelspec": {
   "display_name": "Python 3",
   "language": "python",
   "name": "python3"
  },
  "language_info": {
   "codemirror_mode": {
    "name": "ipython",
    "version": 3
   },
   "file_extension": ".py",
   "mimetype": "text/x-python",
   "name": "python",
   "nbconvert_exporter": "python",
   "pygments_lexer": "ipython3",
   "version": "3.7.4"
  }
 },
 "nbformat": 4,
 "nbformat_minor": 4
}
