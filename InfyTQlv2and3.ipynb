{
 "cells": [
  {
   "cell_type": "markdown",
   "metadata": {},
   "source": [
    "## 13. Write a python function which accepts three numbers and returns True if\n",
    "a. one of the three numbers is \"close\" to any one of the other numbers (differing from a number by at most 1), and\n",
    "\n",
    "b.Number that is left out is \"far\", differing from both other values by 2 or more.\n",
    "\n",
    "Return false if the above mentioned conditions are not satisfied."
   ]
  },
  {
   "cell_type": "code",
   "execution_count": 28,
   "metadata": {},
   "outputs": [
    {
     "name": "stdout",
     "output_type": "stream",
     "text": [
      "False\n"
     ]
    }
   ],
   "source": [
    "#PF-Prac-13\n",
    "\n",
    "def close_number(num1,num2,num3):\n",
    "    lst = [num1,num2,num3]\n",
    "    lst.sort(reverse=True)\n",
    "\n",
    "    if lst[0]-lst[1] >=2 and lst[1]-lst[2]>=0:\n",
    "        if lst[0]-lst[1]>=2 and lst[1]-lst[2]<=1:\n",
    "            return True\n",
    "        else:\n",
    "            return False\n",
    "    return False\n",
    "print(close_number(5,4,2))"
   ]
  },
  {
   "cell_type": "markdown",
   "metadata": {},
   "source": [
    "## 16. Write a Python function to rotate the list of elements by N positions. The function should return the rotated list.\n",
    "Sample Input\tExpected Output\n",
    "Input list: [1, 2, 3, 4, 5, 6]\n",
    "Number of positions to be rotated = 2\n",
    "[5, 6, 1, 2, 3, 4]\n",
    "Input list: [1, 2, 3, 4, 5, 6]\n",
    "Number of positions to be rotated = 4\n",
    "[3,4,5, 6, 1, 2]Note : Assume that number of positions to be rotated is always a value >= 0 and <= length of the input list."
   ]
  },
  {
   "cell_type": "code",
   "execution_count": 24,
   "metadata": {},
   "outputs": [
    {
     "name": "stdout",
     "output_type": "stream",
     "text": [
      "[3, 4, 5, 6, 1, 2]\n"
     ]
    }
   ],
   "source": [
    "#PF-Prac-16\n",
    "def rotate_list(input_list,n):\n",
    "    #start writing your code here\n",
    "    output_list=[]\n",
    "    output_list = input_list[-n:] + input_list[:-n]\n",
    "    \n",
    "    return output_list\n",
    "\n",
    "input_list= [1,2,3,4,5,6]\n",
    "output_list=rotate_list(input_list,4)\n",
    "print(output_list)"
   ]
  },
  {
   "cell_type": "code",
   "execution_count": 25,
   "metadata": {},
   "outputs": [
    {
     "name": "stdout",
     "output_type": "stream",
     "text": [
      "[3, 4, 5, 6, 1, 2]\n"
     ]
    }
   ],
   "source": [
    "#PF-Prac-16\n",
    "from collections import deque\n",
    "def rotate_list(input_list,n):\n",
    "    lst = deque(input_list)\n",
    "    lst.rotate(n)\n",
    "    output_list=[]\n",
    "    output_list[:]=lst\n",
    "    \n",
    "    \n",
    "    return output_list\n",
    "\n",
    "input_list= [1,2,3,4,5,6]\n",
    "output_list=rotate_list(input_list,4)\n",
    "print(output_list)"
   ]
  },
  {
   "cell_type": "markdown",
   "metadata": {},
   "source": [
    "## 39. Suppose you are given a data structure which is a list of dictionaries as follows:\n",
    "cities = [\n",
    "{'Name':'Vancouver','State':'WA','Population':161791},\n",
    "{'Name':'Salem','State':'OR','Population':154637},\n",
    "{'Name':'Seattle','State':'WA','Population':608660},\n",
    "{'Name':'Spokane','State':'WA','Population':208916},\n",
    "...\n",
    "]\n",
    "\n",
    "\n",
    "Complete the function max_in_state to return the city (as a dictionary) with the highest population in a given state. If the population is a tie then return the city that comes first alphabetically.\n",
    "\n",
    "If cities contained only the dictionaries above, a call to max_in_state(cities, 'WA') would return:\n",
    "{'Name':'Seattle','State':'WA','Population':608660"
   ]
  },
  {
   "cell_type": "code",
   "execution_count": 23,
   "metadata": {},
   "outputs": [
    {
     "name": "stdout",
     "output_type": "stream",
     "text": [
      "The city details are: [{'Name': 'Vancouver', 'State': 'WA', 'Population': 161791}, {'Name': 'Salem', 'State': 'OR', 'Population': 154637}, {'Name': 'Seattle', 'State': 'WA', 'Population': 80885}, {'Name': 'Bellingham', 'State': 'WA', 'Population': 608660}, {'Name': 'Spokane', 'State': 'WA', 'Population': 208916}, {'Name': 'Bellevue', 'State': 'WA', 'Population': 608660}, {'Name': 'Portland', 'State': 'OR', 'Population': 583776}]\n",
      "State: WA\n",
      "The highest populated city in the given state is: {'Name': 'Bellingham', 'State': 'WA', 'Population': 608660}\n"
     ]
    }
   ],
   "source": [
    "#PF-Prac-39\n",
    "def max_populated_state(cities_dict,state):\n",
    "    max_populated_city= None\n",
    "    for city in cities_dict:\n",
    "        if city['State'] == state:\n",
    "            if max_populated_city == None or city['Population'] > max_populated_city['Population']:\n",
    "                max_populated_city=city\n",
    "    \n",
    "\n",
    "    return max_populated_city\n",
    "    \n",
    "cities_dict = [\n",
    " {'Name':'Vancouver','State':'WA','Population':161791},\n",
    " {'Name':'Salem','State':'OR','Population':154637},\n",
    " {'Name':'Seattle','State':'WA','Population':80885},\n",
    " {'Name':'Bellingham','State':'WA','Population':608660},\n",
    " {'Name':'Spokane','State':'WA','Population':208916},\n",
    " {'Name':'Bellevue','State':'WA','Population':608660},\n",
    " {'Name':'Portland','State':'OR','Population':583776}\n",
    " ]\n",
    "state=\"WA\"\n",
    "print(\"The city details are:\",cities_dict)\n",
    "print(\"State:\",state)\n",
    "output=max_populated_state(cities_dict,state)\n",
    "print(\"The highest populated city in the given state is:\",output)"
   ]
  },
  {
   "cell_type": "code",
   "execution_count": 3,
   "metadata": {},
   "outputs": [],
   "source": [
    "##34. \n",
    "n = 5\n",
    "new = {i:i**2 for i in range(1,n)}"
   ]
  },
  {
   "cell_type": "code",
   "execution_count": 4,
   "metadata": {},
   "outputs": [
    {
     "name": "stdout",
     "output_type": "stream",
     "text": [
      "{1: 1, 2: 4, 3: 9, 4: 16}\n"
     ]
    }
   ],
   "source": [
    "print(new)"
   ]
  },
  {
   "cell_type": "code",
   "execution_count": 7,
   "metadata": {},
   "outputs": [
    {
     "name": "stdin",
     "output_type": "stream",
     "text": [
      " 20\n"
     ]
    },
    {
     "name": "stdout",
     "output_type": "stream",
     "text": [
      "{1: 1, 2: 4, 3: 9, 4: 16, 5: 25, 6: 36, 7: 49, 8: 64, 9: 81, 10: 100, 11: 121, 12: 144, 13: 169, 14: 196, 15: 225, 16: 256, 17: 289, 18: 324, 19: 361, 20: 400}\n"
     ]
    }
   ],
   "source": [
    "def generate_dict(n):\n",
    "    return {i:i**2 for i in range(1,n+1)}\n",
    "    \n",
    "n = int(input())\n",
    "print(generate_dict(n))"
   ]
  },
  {
   "cell_type": "markdown",
   "metadata": {},
   "source": [
    "## INFYTQ CODING"
   ]
  },
  {
   "cell_type": "code",
   "execution_count": 4,
   "metadata": {},
   "outputs": [
    {
     "name": "stdout",
     "output_type": "stream",
     "text": [
      "['xyz', 'abc', 'zara', 'xyz', 123]\n"
     ]
    }
   ],
   "source": [
    "aList = [123, 'xyz', 'zara', 'abc', 'xyz']\n",
    "\n",
    "aList.reverse()\n",
    "print(aList)"
   ]
  },
  {
   "cell_type": "code",
   "execution_count": 8,
   "metadata": {},
   "outputs": [
    {
     "name": "stdin",
     "output_type": "stream",
     "text": [
      " 195\n"
     ]
    },
    {
     "name": "stdout",
     "output_type": "stream",
     "text": [
      "9339\n"
     ]
    }
   ],
   "source": [
    "string = input()\n",
    "string_rev = string[::-1]\n",
    "\n",
    "while(True):\n",
    "    x = str(int(string) + int(string_rev))\n",
    "    \n",
    "    if(x==x[::-1]):\n",
    "        print(x)\n",
    "        break\n",
    "    else:\n",
    "        string=x\n",
    "        string_rev=string[::-1]"
   ]
  },
  {
   "cell_type": "code",
   "execution_count": 30,
   "metadata": {},
   "outputs": [
    {
     "name": "stdin",
     "output_type": "stream",
     "text": [
      " -18228dd\n"
     ]
    },
    {
     "name": "stdout",
     "output_type": "stream",
     "text": [
      "-18228\n"
     ]
    }
   ],
   "source": [
    "import re\n",
    "string = input()\n",
    "\n",
    "l = re.findall('\\d',string)\n",
    "x = ''.join(l)\n",
    "if (string[0] == '-'):\n",
    "    print('-' + str(x))\n",
    "else:\n",
    "    print(x)"
   ]
  },
  {
   "cell_type": "markdown",
   "metadata": {},
   "source": [
    "## [f(x) if condition else g(x) for x in sequence]\n",
    "\n",
    "## [f(x) for x in sequence if condition]"
   ]
  },
  {
   "cell_type": "code",
   "execution_count": 38,
   "metadata": {},
   "outputs": [
    {
     "name": "stdout",
     "output_type": "stream",
     "text": [
      "1\n",
      "The\n",
      "['The']\n"
     ]
    }
   ],
   "source": [
    "import re\n",
    "\n",
    "string = 'The rain in spain rain'\n",
    "\n",
    "str1 = re.findall('^The',string)\n",
    "print(len(str1))\n",
    "print(''.join(str1))\n",
    "print(str1)"
   ]
  },
  {
   "cell_type": "code",
   "execution_count": 50,
   "metadata": {},
   "outputs": [
    {
     "name": "stdin",
     "output_type": "stream",
     "text": [
      " 0djdjd333\n"
     ]
    },
    {
     "name": "stdout",
     "output_type": "stream",
     "text": [
      "['0', '3', '3', '3']\n",
      "333\n",
      "333\n"
     ]
    }
   ],
   "source": [
    "import re\n",
    "\n",
    "string = input()\n",
    "final_num=''\n",
    "\n",
    "if(string[0]=='-'):\n",
    "    final_num= '-'\n",
    "lst = re.findall('\\d',string)\n",
    "print(lst)\n",
    "number=int(''.join(lst))\n",
    "print(number)\n",
    "print(final_num+str(number))"
   ]
  },
  {
   "cell_type": "code",
   "execution_count": 54,
   "metadata": {},
   "outputs": [
    {
     "name": "stdout",
     "output_type": "stream",
     "text": [
      "['first_name', 'last_name']\n"
     ]
    }
   ],
   "source": [
    "d = {\"first_name\": \"Alfred\", \"last_name\":\"Hitchcock\"}\n",
    "lst=[]\n",
    "for i in d.keys():\n",
    "    lst.append(i)\n",
    "print(lst)"
   ]
  },
  {
   "cell_type": "code",
   "execution_count": null,
   "metadata": {},
   "outputs": [],
   "source": []
  }
 ],
 "metadata": {
  "kernelspec": {
   "display_name": "Python 3",
   "language": "python",
   "name": "python3"
  },
  "language_info": {
   "codemirror_mode": {
    "name": "ipython",
    "version": 3
   },
   "file_extension": ".py",
   "mimetype": "text/x-python",
   "name": "python",
   "nbconvert_exporter": "python",
   "pygments_lexer": "ipython3",
   "version": "3.7.4"
  }
 },
 "nbformat": 4,
 "nbformat_minor": 4
}
