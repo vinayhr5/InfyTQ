{
 "cells": [
  {
   "cell_type": "markdown",
   "metadata": {},
   "source": [
    "## <b> Day8 OOPS MCQs </b>"
   ]
  },
  {
   "cell_type": "code",
   "execution_count": 1,
   "metadata": {},
   "outputs": [],
   "source": [
    "class A:\n",
    "    def __init__(self,b):\n",
    "        self.b=b\n",
    "    def display(self):\n",
    "        print(self.b)\n",
    "obj=A(\"Hello\")\n",
    "del obj"
   ]
  },
  {
   "cell_type": "code",
   "execution_count": 2,
   "metadata": {},
   "outputs": [
    {
     "ename": "NameError",
     "evalue": "name 'obj' is not defined",
     "output_type": "error",
     "traceback": [
      "\u001b[0;31m---------------------------------------------------------------------------\u001b[0m",
      "\u001b[0;31mNameError\u001b[0m                                 Traceback (most recent call last)",
      "\u001b[0;32m<ipython-input-2-c88944e91e53>\u001b[0m in \u001b[0;36m<module>\u001b[0;34m\u001b[0m\n\u001b[0;32m----> 1\u001b[0;31m \u001b[0mobj\u001b[0m\u001b[0;34m\u001b[0m\u001b[0;34m\u001b[0m\u001b[0m\n\u001b[0m",
      "\u001b[0;31mNameError\u001b[0m: name 'obj' is not defined"
     ]
    }
   ],
   "source": [
    "obj"
   ]
  },
  {
   "cell_type": "code",
   "execution_count": 4,
   "metadata": {},
   "outputs": [
    {
     "name": "stdout",
     "output_type": "stream",
     "text": [
      "13\n",
      "{'price': 50, 'quantity': 10, 'bags': 2}\n"
     ]
    }
   ],
   "source": [
    "class fruits:\n",
    "    def __init__(self, price):\n",
    "        self.price = price\n",
    "obj=fruits(50)\n",
    "obj.quantity=10\n",
    "obj.bags=2\n",
    "print(obj.quantity+len(obj.__dict__))\n",
    "print(obj.__dict__)"
   ]
  },
  {
   "cell_type": "code",
   "execution_count": 8,
   "metadata": {},
   "outputs": [
    {
     "name": "stdout",
     "output_type": "stream",
     "text": [
      "First method called\n"
     ]
    }
   ],
   "source": [
    "class B(object):\n",
    "    def first(self):\n",
    "        print(\"First method called\")\n",
    "    def second():\n",
    "        print(\"Second method called\")\n",
    "ob = B()\n",
    "B.first(ob)"
   ]
  },
  {
   "cell_type": "code",
   "execution_count": 6,
   "metadata": {},
   "outputs": [
    {
     "name": "stdout",
     "output_type": "stream",
     "text": [
      "First method called\n"
     ]
    }
   ],
   "source": [
    "ob.first()"
   ]
  },
  {
   "cell_type": "code",
   "execution_count": 10,
   "metadata": {},
   "outputs": [
    {
     "data": {
      "text/plain": [
       "__repr__ built-in function called"
      ]
     },
     "execution_count": 10,
     "metadata": {},
     "output_type": "execute_result"
    }
   ],
   "source": [
    "class demo():\n",
    "    def __repr__(self):\n",
    "        return '__repr__ built-in function called'\n",
    "    def __str__(self):\n",
    "        return '__str__ built-in function called'\n",
    "s=demo()\n",
    "s"
   ]
  },
  {
   "cell_type": "code",
   "execution_count": 11,
   "metadata": {},
   "outputs": [
    {
     "name": "stdout",
     "output_type": "stream",
     "text": [
      "__str__ built-in function called\n"
     ]
    }
   ],
   "source": [
    "class demo():\n",
    "    def __repr__(self):\n",
    "        return '__repr__ built-in function called'\n",
    "    def __str__(self):\n",
    "        return '__str__ built-in function called'\n",
    "s=demo()\n",
    "print(s)"
   ]
  },
  {
   "cell_type": "code",
   "execution_count": 16,
   "metadata": {},
   "outputs": [
    {
     "name": "stdout",
     "output_type": "stream",
     "text": [
      "{'roll_no': 34, 'grade': 'S'}\n",
      "True\n",
      "{'roll_no': 34, 'grade': 'S', 'age': 7}\n"
     ]
    }
   ],
   "source": [
    "class stud:\n",
    "    def __init__(self, roll_no, grade):\n",
    "        self.roll_no = roll_no\n",
    "        self.grade = grade\n",
    "    def display (self):\n",
    "        print(\"Roll no : \", self.roll_no, \", Grade: \", self.grade)\n",
    "stud1 = stud(34, 'S')\n",
    "print(stud1.__dict__)\n",
    "stud1.age=7\n",
    "print(hasattr(stud1, 'age'))\n",
    "print(stud1.__dict__)"
   ]
  },
  {
   "cell_type": "code",
   "execution_count": 21,
   "metadata": {},
   "outputs": [
    {
     "name": "stdout",
     "output_type": "stream",
     "text": [
      "Base class for all students\n"
     ]
    }
   ],
   "source": [
    "class stud:\n",
    "    '''Base class for all students'''\n",
    "    def __init__(self, roll_no, grade):\n",
    "        self.roll_no = roll_no\n",
    "        self.grade = grade\n",
    "    def display (self):\n",
    "        print(\"Roll no : \", self.roll_no, \", Grade: \", self.grade)\n",
    "print(stud.__doc__)"
   ]
  },
  {
   "cell_type": "code",
   "execution_count": 54,
   "metadata": {},
   "outputs": [
    {
     "name": "stdout",
     "output_type": "stream",
     "text": [
      "26\n",
      "6\n",
      "15\n",
      "False\n"
     ]
    }
   ],
   "source": [
    "x = 1256\n",
    "even =\"\"\n",
    "odd = \"\"\n",
    "\n",
    "\n",
    "\n",
    "x = str(x)\n",
    "for i in x:\n",
    "    \n",
    "    if (int(i)%2)== 0:\n",
    "        even+=i\n",
    "    else:\n",
    "        odd+=i\n",
    "print(even)\n",
    "print((int(even) % 100) %10)\n",
    "\n",
    "\n",
    "\n",
    "print(odd)\n",
    "if int(even) % int(odd) == 0:\n",
    "    print(\"True\")\n",
    "else:\n",
    "    print(\"False\")\n"
   ]
  },
  {
   "cell_type": "code",
   "execution_count": 5,
   "metadata": {},
   "outputs": [
    {
     "name": "stdout",
     "output_type": "stream",
     "text": [
      " test of B called \n"
     ]
    }
   ],
   "source": [
    "class A:\n",
    "    def test1(self):\n",
    "        print(\" test of A called \")\n",
    "class B(A):\n",
    "    def test(self):\n",
    "        print(\" test of B called \")\n",
    "class C(A):\n",
    "    def test(self):\n",
    "        print(\" test of C called \")\n",
    "class D(B,C):\n",
    "    def test2(self):\n",
    "        print(\" test of D called \")\n",
    "obj=D()\n",
    "obj.test()"
   ]
  },
  {
   "cell_type": "code",
   "execution_count": 9,
   "metadata": {},
   "outputs": [
    {
     "name": "stdout",
     "output_type": "stream",
     "text": [
      "1 1 1\n"
     ]
    }
   ],
   "source": [
    "class A:\n",
    "    def __str__(self):\n",
    "        return '1'\n",
    "class B(A):\n",
    "    def __init__(self):\n",
    "        super().__init__()\n",
    "class C(B):\n",
    "    def __init__(self):\n",
    "        super().__init__()\n",
    "def main():\n",
    "    obj1 = B()\n",
    "    obj2 = A()\n",
    "    obj3 = C()\n",
    "    print(obj1, obj2,obj3)\n",
    "main()"
   ]
  },
  {
   "cell_type": "code",
   "execution_count": 11,
   "metadata": {},
   "outputs": [
    {
     "name": "stdout",
     "output_type": "stream",
     "text": [
      "1 2 3\n"
     ]
    }
   ],
   "source": [
    "class A:\n",
    "    def __repr__(self):\n",
    "        return \"1\"\n",
    "class B(A):\n",
    "    def __repr__(self):\n",
    "        return \"2\"\n",
    "class C(B):\n",
    "    def __repr__(self):\n",
    "        return \"3\"\n",
    "o1 = A()\n",
    "o2 = B()\n",
    "o3 = C()\n",
    "print(o1, o2, o3)"
   ]
  },
  {
   "cell_type": "code",
   "execution_count": null,
   "metadata": {},
   "outputs": [],
   "source": []
  }
 ],
 "metadata": {
  "kernelspec": {
   "display_name": "Python 3",
   "language": "python",
   "name": "python3"
  },
  "language_info": {
   "codemirror_mode": {
    "name": "ipython",
    "version": 3
   },
   "file_extension": ".py",
   "mimetype": "text/x-python",
   "name": "python",
   "nbconvert_exporter": "python",
   "pygments_lexer": "ipython3",
   "version": "3.7.4"
  }
 },
 "nbformat": 4,
 "nbformat_minor": 4
}
