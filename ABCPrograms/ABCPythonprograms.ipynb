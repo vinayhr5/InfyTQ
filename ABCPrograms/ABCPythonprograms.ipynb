{
 "cells": [
  {
   "cell_type": "markdown",
   "metadata": {},
   "source": [
    "## ABCPythonPrograms"
   ]
  },
  {
   "cell_type": "markdown",
   "metadata": {},
   "source": [
    "1. WAP to check whether a string is Anagram or not?"
   ]
  },
  {
   "cell_type": "code",
   "execution_count": 18,
   "metadata": {},
   "outputs": [
    {
     "name": "stdin",
     "output_type": "stream",
     "text": [
      "Enter first string:  PEEK\n",
      "Enter second String KSKSKS\n"
     ]
    },
    {
     "name": "stdout",
     "output_type": "stream",
     "text": [
      "not anagram\n"
     ]
    }
   ],
   "source": [
    "stringone = input(\"Enter first string: \")\n",
    "stringtwo = input(\"Enter second String\")\n",
    "\n",
    "stringone = list(stringone.lower())\n",
    "stringtwo = list(stringtwo.lower())\n",
    "\n",
    "STR = 'JFJFJ'\n",
    "ST\n",
    "stringone.sort()\n",
    "stringtwo.sort()\n",
    "\n",
    "if(stringone == stringtwo):\n",
    "    print('anagram')\n",
    "else:\n",
    "    print(\"not anagram\")"
   ]
  },
  {
   "cell_type": "code",
   "execution_count": 23,
   "metadata": {},
   "outputs": [
    {
     "name": "stdin",
     "output_type": "stream",
     "text": [
      "enter first string vinay\n",
      "enter second string sdf\n"
     ]
    },
    {
     "name": "stdout",
     "output_type": "stream",
     "text": [
      "Not anagram\n"
     ]
    }
   ],
   "source": [
    "## way2 *************************keep = peek***************mother in law = hitler in law************************************\n",
    "\n",
    "if (sorted(input(\"enter first string\").replace(' ','').lower()) == sorted(input(\"enter second string\").replace(' ','').lower())):\n",
    "    print(\"anagram\")\n",
    "else:\n",
    "    print(\"Not anagram\")"
   ]
  },
  {
   "cell_type": "markdown",
   "metadata": {},
   "source": [
    "2. Given a string find the longest length of a prefix which is also a suffix"
   ]
  },
  {
   "cell_type": "code",
   "execution_count": 2,
   "metadata": {},
   "outputs": [
    {
     "name": "stdin",
     "output_type": "stream",
     "text": [
      "Enter string:  abcvinayabc\n"
     ]
    },
    {
     "name": "stdout",
     "output_type": "stream",
     "text": [
      "abc\n"
     ]
    }
   ],
   "source": [
    "s1 = input(\"Enter string: \")\n",
    "\n",
    "t = ''\n",
    "t1 = ''\n",
    "\n",
    "for i in s1:\n",
    "    t += i\n",
    "    \n",
    "    if s1.endswith(t):\n",
    "        if len(t) < len(s1):\n",
    "            t1 = t\n",
    "print(t1)"
   ]
  },
  {
   "cell_type": "markdown",
   "metadata": {},
   "source": [
    "3. Remove unwanted characters and according to count of unwanted characters, if it is odd ....place odd then even\n"
   ]
  },
  {
   "cell_type": "code",
   "execution_count": 8,
   "metadata": {},
   "outputs": [
    {
     "ename": "SyntaxError",
     "evalue": "invalid syntax (<ipython-input-8-67ea81af8e4a>, line 28)",
     "output_type": "error",
     "traceback": [
      "\u001b[0;36m  File \u001b[0;32m\"<ipython-input-8-67ea81af8e4a>\"\u001b[0;36m, line \u001b[0;32m28\u001b[0m\n\u001b[0;31m    else:\u001b[0m\n\u001b[0m       ^\u001b[0m\n\u001b[0;31mSyntaxError\u001b[0m\u001b[0;31m:\u001b[0m invalid syntax\n"
     ]
    }
   ],
   "source": [
    "n = \"3$5&^*7264\"\n",
    "leven=[]\n",
    "lodd = []\n",
    "longest = 0\n",
    "sp = 0\n",
    "\n",
    "for i in n:\n",
    "    if i in '02468':\n",
    "        leven.append(i)\n",
    "    elif i in '13579':\n",
    "        lodd.append(i)\n",
    "    elif(not((i >= 'A' and i <= 'Z')or(i>='a' and i <= 'z'))):\n",
    "        sp+=1\n",
    "if len(leven) > len(lodd):\n",
    "    longest = len(leven)\n",
    "else:\n",
    "    longest = len(lodd)\n",
    "    \n",
    "if sp%2 == 0:\n",
    "    while i < longest:\n",
    "        if i<len(leven):\n",
    "            t+=leven[i]\n",
    "        if i <len(lodd):\n",
    "            t+=lodd[i]\n",
    "        \n",
    "        i +=1\n",
    "        \n",
    "        else:\n",
    "            while i < longest:\n",
    "                if i <len[lodd]:\n",
    "                    t+=lodd[i]\n",
    "                if i<len[leven]:\n",
    "                    t+= leven[i]\n",
    "        t+=1\n",
    "        "
   ]
  },
  {
   "cell_type": "code",
   "execution_count": null,
   "metadata": {},
   "outputs": [],
   "source": []
  }
 ],
 "metadata": {
  "kernelspec": {
   "display_name": "Python 3",
   "language": "python",
   "name": "python3"
  },
  "language_info": {
   "codemirror_mode": {
    "name": "ipython",
    "version": 3
   },
   "file_extension": ".py",
   "mimetype": "text/x-python",
   "name": "python",
   "nbconvert_exporter": "python",
   "pygments_lexer": "ipython3",
   "version": "3.7.4"
  }
 },
 "nbformat": 4,
 "nbformat_minor": 4
}
