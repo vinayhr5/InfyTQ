{
 "cells": [
  {
   "cell_type": "markdown",
   "metadata": {},
   "source": [
    "## Remove unwanted characters from string"
   ]
  },
  {
   "cell_type": "code",
   "execution_count": 1,
   "metadata": {},
   "outputs": [
    {
     "name": "stdin",
     "output_type": "stream",
     "text": [
      "enter the string:  he)#2jj\n"
     ]
    },
    {
     "name": "stdout",
     "output_type": "stream",
     "text": [
      "hejj\n"
     ]
    }
   ],
   "source": [
    "#1.\n",
    "str1 = input('enter the string: ')\n",
    "result = \"\"\n",
    "for i in str1:\n",
    "    if (i.isalpha() == True):\n",
    "        result += i\n",
    "print(result)\n",
    "        "
   ]
  },
  {
   "cell_type": "code",
   "execution_count": null,
   "metadata": {},
   "outputs": [],
   "source": [
    "print(help(str))"
   ]
  },
  {
   "cell_type": "code",
   "execution_count": 2,
   "metadata": {},
   "outputs": [
    {
     "name": "stdout",
     "output_type": "stream",
     "text": [
      "['3', '5', '1', '7', '8', '9']\n"
     ]
    }
   ],
   "source": [
    "#2.\n",
    "str1 = '537198'\n",
    "lst1 = list(str1)\n",
    "\n",
    "i = 0\n",
    "\n",
    "while i<len(lst1)-1:\n",
    "    lst1[i], lst1[i+1] = lst1[i+1], lst1[i]\n",
    "    i = i +2\n",
    "print(lst1)"
   ]
  },
  {
   "cell_type": "code",
   "execution_count": null,
   "metadata": {},
   "outputs": [],
   "source": [
    "str1 = '537198'\n",
    "lst1 = list(str1)\n",
    "n = len(lst1)-1\n",
    "print(n)\n",
    "for i in range(n):\n",
    "    lst1[i], lst1[i+1] = lst1[i+1], lst1[i]\n",
    "    \n",
    "print(lst1)"
   ]
  },
  {
   "cell_type": "code",
   "execution_count": 3,
   "metadata": {},
   "outputs": [
    {
     "name": "stdout",
     "output_type": "stream",
     "text": [
      "[9, 8, 7, 5, 3, 2, 1]\n",
      "[8, 9, 5, 7, 2, 3, 1]\n"
     ]
    }
   ],
   "source": [
    "#3 \n",
    "lst1 = [5,7,3,9,1,2,8]\n",
    "lst1.sort(reverse=True)\n",
    "print(lst1)\n",
    "\n",
    "i = 0\n",
    "\n",
    "while i<len(lst1)-1:\n",
    "    lst1[i], lst1[i+1] = lst1[i+1], lst1[i]\n",
    "    i = i +2\n",
    "print(lst1)"
   ]
  },
  {
   "cell_type": "code",
   "execution_count": null,
   "metadata": {},
   "outputs": [],
   "source": [
    "#4\n",
    "lst1 = [5,-3,7,1,-4,-6]\n",
    "\n",
    "positive = []\n",
    "negative = list()\n",
    "\n",
    "for i in lst1:\n",
    "    if i >= 0:\n",
    "        positive.append(i)\n",
    "    else:\n",
    "        negative.append(i)\n",
    "\n",
    "positive.sort(reverse= True)\n",
    "negative.sort()\n",
    "\n",
    "#result = positive.extend(negative) #error new object is created ...list is mutable so changes should be done in same list.....extend does not return anything\n",
    "result = []\n",
    "positive.extend(negative) #p+n\n",
    "#result.append(positive) ## returns list within a list\n",
    "result.extend(positive)\n",
    "print(result)"
   ]
  },
  {
   "cell_type": "code",
   "execution_count": null,
   "metadata": {},
   "outputs": [],
   "source": [
    "s1 = 'viay'\n",
    "s2 = ' hahaha'\n",
    "s3 = s1 + s2"
   ]
  },
  {
   "cell_type": "code",
   "execution_count": null,
   "metadata": {},
   "outputs": [],
   "source": [
    "print(s3)"
   ]
  },
  {
   "cell_type": "code",
   "execution_count": null,
   "metadata": {},
   "outputs": [],
   "source": [
    "lst = ['www.google.com','www.fb.com']\n",
    "\n",
    "lst1 = input()\n",
    "\n",
    "if lst1 in lst:\n",
    "    print('yes')\n",
    "else:\n",
    "    print('No')"
   ]
  },
  {
   "cell_type": "code",
   "execution_count": null,
   "metadata": {},
   "outputs": [],
   "source": [
    "if __name__ == '__main__':\n",
    "    s1 = input()\n",
    "    s2 = input()\n",
    "    \n",
    "    l = s2.split(',')\n",
    "    \n",
    "    for i in l:\n",
    "        if i in s1:\n",
    "            print('yes')\n",
    "        else:\n",
    "            print('no')"
   ]
  },
  {
   "cell_type": "code",
   "execution_count": null,
   "metadata": {},
   "outputs": [],
   "source": [
    "##LESICOGRAPHIC Order\n",
    "if __name__ == '__main__':\n",
    "    s1 = input('enter the string')\n",
    "    \n",
    "    l = s1.split(',')\n",
    "    m = set(l)\n",
    "    l = list(m)\n",
    "    l.sort()\n",
    "    print(l)\n",
    "    #for i in l:\n",
    "     #   print(i)"
   ]
  },
  {
   "cell_type": "code",
   "execution_count": null,
   "metadata": {},
   "outputs": [],
   "source": [
    "## uPPER VOWELS\n",
    "if __name__ == '__main__':\n",
    "    s = input('enter the string')\n",
    "    res = ''\n",
    "    \n",
    "    for i in s:\n",
    "        if i in 'aeiou':\n",
    "            res += i.upper()\n",
    "        else:\n",
    "            res+=i\n",
    "    print(res)"
   ]
  },
  {
   "cell_type": "code",
   "execution_count": null,
   "metadata": {},
   "outputs": [],
   "source": [
    "if __name__ == '__main__':\n",
    "    s = 'HelLO'\n",
    "    res = ''\n",
    "\n",
    "    res =s.swapcase()\n",
    "print(res)"
   ]
  },
  {
   "cell_type": "code",
   "execution_count": null,
   "metadata": {},
   "outputs": [],
   "source": [
    "help(str)"
   ]
  },
  {
   "cell_type": "code",
   "execution_count": null,
   "metadata": {},
   "outputs": [],
   "source": [
    "s = '123f'\n",
    "\n",
    "res = ''\n",
    "res = s.isdigit()\n",
    "print(res)"
   ]
  },
  {
   "cell_type": "code",
   "execution_count": null,
   "metadata": {},
   "outputs": [],
   "source": [
    "# not correct ..my pgm\n",
    "def isVowel(s):\n",
    "    for i in s:\n",
    "        if i in 'aeiou':\n",
    "            return True\n",
    "        elif i in 'AEIOU':\n",
    "            return True\n",
    "        else:\n",
    "            return False\n",
    "    \n",
    "if __name__ == '__main__':\n",
    "    s = input()\n",
    "    res = isVowel(s)\n",
    "    print(res)"
   ]
  },
  {
   "cell_type": "code",
   "execution_count": 15,
   "metadata": {},
   "outputs": [
    {
     "name": "stdin",
     "output_type": "stream",
     "text": [
      " aexo\n"
     ]
    },
    {
     "name": "stdout",
     "output_type": "stream",
     "text": [
      "False\n"
     ]
    }
   ],
   "source": [
    "#correct ----> check count and len\n",
    "#i/p s = 'aeiouiiiou' - True\n",
    "# s = aeXo -False\n",
    "# s = \n",
    "\n",
    "def isVowel(s):\n",
    "    count = 0\n",
    "    for i in s:\n",
    "        if i in 'aeiouAEIOU':\n",
    "            count+=1\n",
    "        if len(s)==count:\n",
    "            return True\n",
    "            \n",
    "    else:\n",
    "        return False\n",
    "    \n",
    "if __name__ == '__main__':\n",
    "    s = input()\n",
    "    res = isVowel(s)\n",
    "    \n",
    "    print(res)\n"
   ]
  },
  {
   "cell_type": "code",
   "execution_count": 20,
   "metadata": {},
   "outputs": [
    {
     "name": "stdin",
     "output_type": "stream",
     "text": [
      " zxx\n"
     ]
    },
    {
     "name": "stdout",
     "output_type": "stream",
     "text": [
      "True\n"
     ]
    }
   ],
   "source": [
    "def isVowel(s):\n",
    "    count = 0\n",
    "    for i in s:\n",
    "        if i not in 'aeiouAEIOU':\n",
    "            count+=1\n",
    "        else:\n",
    "            break\n",
    "        if len(s)==count:\n",
    "            return True\n",
    "            \n",
    "    else:\n",
    "        return False\n",
    "    \n",
    "if __name__ == '__main__':\n",
    "    s = input()\n",
    "    res = isVowel(s)\n",
    "    \n",
    "    print(res)\n"
   ]
  },
  {
   "cell_type": "code",
   "execution_count": null,
   "metadata": {},
   "outputs": [],
   "source": [
    "help(dict)"
   ]
  },
  {
   "cell_type": "code",
   "execution_count": null,
   "metadata": {},
   "outputs": [],
   "source": [
    "# second largest element in list\n",
    "l = map(int, input().split())\n",
    "    \n",
    "l = set(l)\n",
    "l = list(l)\n",
    "l.sort(reverse=True)\n",
    "print(l[1])"
   ]
  },
  {
   "cell_type": "code",
   "execution_count": null,
   "metadata": {},
   "outputs": [],
   "source": [
    "## sum all the pairs of elements excluding one element and \n",
    "#l = map(int, input().split())\n",
    "\n",
    "#l = set(l)\n",
    "#l = list(l)\n",
    "l = [5,2,4,3,1]\n",
    "l1 = []\n",
    "for i in range(len(l))\n",
    "    for j in range(0,len(l)):\n",
    "        l.pop(j)  \n",
    "        l1.append(sum(l))\n",
    "        print(l1)\n",
    "    "
   ]
  },
  {
   "cell_type": "code",
   "execution_count": null,
   "metadata": {},
   "outputs": [],
   "source": [
    "print(sum(l)-min(l),sum(l)-max(l))"
   ]
  },
  {
   "cell_type": "code",
   "execution_count": null,
   "metadata": {},
   "outputs": [],
   "source": [
    "l = [5,2,4,3,1]\n",
    "sum1 = sum(l)\n",
    "print(sum1 - min(l),sum1 - max(l))"
   ]
  },
  {
   "cell_type": "code",
   "execution_count": null,
   "metadata": {},
   "outputs": [],
   "source": [
    "## LEAP YEAR CHECK\n",
    "def leap(int):\n",
    "    leap = False\n",
    "    if year%4==0 and year%100!=0 or year%400==0:\n",
    "        leap = True\n",
    "    return leap\n",
    "if __name__=='__main__':\n",
    "    year=int(input())\n",
    "    x=leap(year)\n",
    "    print(x)\n"
   ]
  },
  {
   "cell_type": "code",
   "execution_count": null,
   "metadata": {},
   "outputs": [],
   "source": [
    "def leap(i):\n",
    "    #return False\n",
    "    if i%4==0 and i%100!=0 or i%400==0:\n",
    "        return i\n",
    "    else:\n",
    "        pass\n",
    "\n",
    "if __name__=='__main__':\n",
    "    \n",
    "    for i in range(2000,3000):\n",
    "        x = leap(i)\n",
    "    \n",
    "    x.append(i)\n",
    "    print(x)\n",
    "        \n",
    "    "
   ]
  },
  {
   "cell_type": "code",
   "execution_count": null,
   "metadata": {},
   "outputs": [],
   "source": [
    "## LEAP YEAR CHECK\n",
    "if __name__=='__main__':\n",
    "    lst = list(range(2000,2010))\n",
    "    \n",
    "    lst1 = []\n",
    "    l1=[]\n",
    "    i=2000\n",
    "    while len(lst)<10:\n",
    "        if i%4==0 and i%100!=0 or i%400==0:\n",
    "            print(i)\n",
    "            l1.append(i)\n",
    "        i+=4\n",
    "    print(l1)\n",
    "#     for i in lst:\n",
    "#         if i%4==0 and i%100!=0 or i%400==0:\n",
    "#             lst1.append(i)\n",
    "#         else:\n",
    "#             pass\n",
    "#     print(lst1)\n",
    "            "
   ]
  },
  {
   "cell_type": "markdown",
   "metadata": {},
   "source": [
    "## PYTHON BASIC EXERCISE\n"
   ]
  },
  {
   "cell_type": "code",
   "execution_count": null,
   "metadata": {},
   "outputs": [],
   "source": [
    "a = int(input())\n",
    "b = int(input())\n",
    "\n",
    "def sum(a,b):\n",
    "    c = a * b\n",
    "    \n",
    "    if c > 1000:\n",
    "        return a+b\n",
    "    else:\n",
    "        return c\n",
    "if __name__ == '__main__':\n",
    "    x = sum(a,b)\n",
    "    print(x)"
   ]
  },
  {
   "cell_type": "code",
   "execution_count": null,
   "metadata": {},
   "outputs": [],
   "source": [
    "def demo(x):\n",
    "    for i in x:\n",
    "        sum = x[-1]+x[-2]\n",
    "    return sum\n",
    "\n",
    "if __name__ == '__main__':\n",
    "    n = int(input())\n",
    "    x = list(range(n))\n",
    "    result=demo(x)\n",
    "    print(result)"
   ]
  },
  {
   "cell_type": "code",
   "execution_count": null,
   "metadata": {},
   "outputs": [],
   "source": [
    "def chakri(a):\n",
    "    str1=\"\"\n",
    "    for i in range(0,len(a),2):\n",
    "       str1+=a[i]\n",
    "    return str1\n",
    "            \n",
    "if __name__ == '__main__':\n",
    "    a =input()\n",
    "    #lst = list(a)\n",
    "    x = chakri(a)\n",
    "    print(x)\n",
    "    #print(x)\n",
    "    \n"
   ]
  },
  {
   "cell_type": "code",
   "execution_count": null,
   "metadata": {},
   "outputs": [],
   "source": [
    "def chakri(lst):\n",
    "    lst1=[]\n",
    "    for i in lst:\n",
    "        if(lst.index(i)%2)==0:\n",
    "            lst1.append(i)\n",
    "    return lst1\n",
    "            \n",
    "if __name__ == '__main__':\n",
    "    a =input()\n",
    "    lst = list(a)\n",
    "    x = chakri(lst)\n",
    "    z = str(x)\n",
    "    print(z)\n"
   ]
  },
  {
   "cell_type": "code",
   "execution_count": null,
   "metadata": {},
   "outputs": [],
   "source": [
    "lst = ['v','c','f']\n",
    "lst1= []\n",
    "for i in lst:\n",
    "        if(lst.index(i)%2)==0:\n",
    "            lst1.append(i)\n",
    "print(lst1)"
   ]
  },
  {
   "cell_type": "code",
   "execution_count": null,
   "metadata": {},
   "outputs": [],
   "source": [
    "lst = ['a','b']\n",
    "str(lst)"
   ]
  },
  {
   "cell_type": "code",
   "execution_count": null,
   "metadata": {},
   "outputs": [],
   "source": [
    "def demo(a,b):\n",
    "    a1 = list(a)\n",
    "    a3 = a1[b:]\n",
    "    return a3\n",
    "        \n",
    "if __name__ == '__main__':\n",
    "    a =input()\n",
    "    b=int(input())\n",
    "    x=demo(a,b)\n",
    "    print(x)"
   ]
  },
  {
   "cell_type": "code",
   "execution_count": null,
   "metadata": {},
   "outputs": [],
   "source": [
    "def demo(lst):\n",
    "    if lst[0]==lst[-1]:\n",
    "        return True\n",
    "    else:\n",
    "        return False\n",
    "    \n",
    "if __name__ == '__main__':\n",
    "    lst= list(map(int,input().split()))\n",
    "    print(lst)\n",
    "    x=demo(lst)\n",
    "    print(x)"
   ]
  },
  {
   "cell_type": "code",
   "execution_count": null,
   "metadata": {},
   "outputs": [],
   "source": [
    "def demo(lst):\n",
    "    lst1=[]\n",
    "    for i in lst:\n",
    "        if(i%5==0):\n",
    "            lst1.append(i)\n",
    "    return lst1\n",
    "if __name__ == '__main__':\n",
    "    lst= list(map(int,input().split()))\n",
    "   # print(lst)\n",
    "    x=demo(lst)\n",
    "    print(x)"
   ]
  },
  {
   "cell_type": "code",
   "execution_count": null,
   "metadata": {},
   "outputs": [],
   "source": [
    "import re\n",
    "\n",
    "str1 = \"Emma is a good Emma\"\n",
    "x = re.search(\"^Emma\",str1)\n",
    "if x:\n",
    "    print(\"yo\")\n",
    "else:\n",
    "    print(\"no\")"
   ]
  },
  {
   "cell_type": "code",
   "execution_count": null,
   "metadata": {},
   "outputs": [],
   "source": [
    "def search(lst,lstsearch):\n",
    "    count = 0\n",
    "    for element in lst:\n",
    "        if  (element in lst)==True :\n",
    "            count+=1\n",
    "    return count\n",
    "if __name__ == '__main__':\n",
    "    str1 = 'Emma is a good developer. Emma is also a writer'\n",
    "    lst = list(str1.split())\n",
    "    lstsearch = ['Emma']\n",
    "#     print(lst)\n",
    "#     print(lstsearch)\n",
    "#     for i in lst:\n",
    "#         print(i)\n",
    "    x = search(lst,lstsearch)\n",
    "    print(x)"
   ]
  },
  {
   "cell_type": "code",
   "execution_count": null,
   "metadata": {},
   "outputs": [],
   "source": [
    "def search(str1,str2):\n",
    "    count = 0\n",
    "    \n",
    "    \n",
    "    for element in lst:\n",
    "        if  lstsearch == element:\n",
    "            count+=1\n",
    "    return count\n",
    "if __name__ == '__main__':\n",
    "    str1 = 'Emma is a good developer. Emma is also a writer'\n",
    "    str2 = 'Emma'\n",
    "    x = search(str1,str2)\n",
    "\n",
    "    print(x)"
   ]
  },
  {
   "cell_type": "code",
   "execution_count": null,
   "metadata": {},
   "outputs": [],
   "source": [
    "#txt = \"Hello, welcome to my world.\"\n",
    "count=0\n",
    "s = 'Emma is a good developer. Emma is also a writer'\n",
    "l = s.split()\n",
    "lst= list(l)\n",
    "s2=\"Emma\"\n",
    "for i in range(len(lst)):\n",
    "    if(str1.find(\"Emma\"))==-1:\n",
    "        print(\"no\")\n",
    "    else:\n",
    "        count+=1\n",
    "        #print(\"yye\")\n",
    "    print(count)\n"
   ]
  },
  {
   "cell_type": "code",
   "execution_count": null,
   "metadata": {},
   "outputs": [],
   "source": [
    "str1 = 'Emma is a good developer. Emma is also a writer. Emma Emma Emma'\n",
    "st2 = 'Emma'\n",
    "print(str1.count(str2))\n",
    "\n"
   ]
  },
  {
   "cell_type": "code",
   "execution_count": null,
   "metadata": {},
   "outputs": [],
   "source": [
    "class change:\n",
    "    def __init__(self, x, y, z):\n",
    "        self.a = x + y + z\n",
    "x = change(1,2,3)\n",
    "y = getattr(x, 'a')\n",
    "setattr(x, 'a', y+1)\n",
    "print(x.a)"
   ]
  },
  {
   "cell_type": "code",
   "execution_count": null,
   "metadata": {},
   "outputs": [],
   "source": [
    "class A:\n",
    "    def __init__(self,b):\n",
    "        self.b=b\n",
    "    def display(self):\n",
    "        print(self.b)\n",
    "obj=A(\"Hello\")\n",
    "del obj"
   ]
  },
  {
   "cell_type": "code",
   "execution_count": null,
   "metadata": {},
   "outputs": [],
   "source": [
    "class fruits:\n",
    "    def __init__(self, price):\n",
    "        self.price = price\n",
    "obj=fruits(50)\n",
    "obj.quantity=10\n",
    "obj.bags=2\n",
    "print(obj.quantity+len(obj.__dict__))\n",
    "print(obj.__dict__)"
   ]
  },
  {
   "cell_type": "code",
   "execution_count": null,
   "metadata": {},
   "outputs": [],
   "source": [
    "n = int(input('enter the no of elements: '))\n",
    "lst = []\n",
    "\n",
    "for i in range(n):\n",
    "    lst.append(int(input())\n",
    "print(n)"
   ]
  },
  {
   "cell_type": "code",
   "execution_count": null,
   "metadata": {},
   "outputs": [],
   "source": [
    "n = int(input('Enter the no: '))\n",
    "lst = []\n",
    "for i in range(n):\n",
    "    lst.append(int(input()))\n",
    "\n",
    "print(lst)\n"
   ]
  },
  {
   "cell_type": "code",
   "execution_count": null,
   "metadata": {},
   "outputs": [],
   "source": [
    "def count_jhon(statement):\n",
    "    count = 0\n",
    "    for i in range(len(statement)-1):\n",
    "        count += statement[i:i+4] == 'Emma'\n",
    "    return count\n",
    "\n",
    "count = count_jhon(\"Emma is good developer.Emma EmmaEmma is asloEmma a writer\")\n",
    "print(\"Emma appeared \", count, \"times\")"
   ]
  },
  {
   "cell_type": "code",
   "execution_count": null,
   "metadata": {},
   "outputs": [],
   "source": [
    "str1 = input('Enter the String: ')\n",
    "str2 = input('Enter the Substring: ')\n",
    "\n",
    "\n",
    "if str1[i:i+2] == str2:\n",
    "    print('yes')"
   ]
  },
  {
   "cell_type": "code",
   "execution_count": null,
   "metadata": {},
   "outputs": [],
   "source": [
    "for i in range (5):\n",
    "    for j in range(i):\n",
    "        print(i, end=\"\")\n",
    "    print()"
   ]
  },
  {
   "cell_type": "code",
   "execution_count": null,
   "metadata": {},
   "outputs": [],
   "source": [
    "str1 = 'lololoab'\n",
    "str2 = 'ab'\n",
    "\n",
    "if str2 in str1:\n",
    "    print('yes')\n",
    "else:\n",
    "    print('no')\n",
    "    "
   ]
  },
  {
   "cell_type": "code",
   "execution_count": null,
   "metadata": {},
   "outputs": [],
   "source": [
    "class change:\n",
    "    def __init__(self, x, y, z):\n",
    "        self.a = x + y + z\n",
    "x = change(1,2,3)\n",
    "y = getattr(x, 'a')\n",
    "print(y)\n",
    "setattr(x, 'a', y+1)\n",
    "\n",
    "print(x.a)"
   ]
  },
  {
   "cell_type": "code",
   "execution_count": null,
   "metadata": {},
   "outputs": [],
   "source": [
    "class test:\n",
    "    def __init__(self,a):\n",
    "        self.a=a\n",
    "    def display(self):\n",
    "        print(self.a)\n",
    "obj=test()\n",
    "obj.display()"
   ]
  },
  {
   "cell_type": "code",
   "execution_count": null,
   "metadata": {},
   "outputs": [],
   "source": [
    "#ab*\n",
    "\n",
    "c1=c2=c3=c4=c5=c6= 0\n",
    "s= input()\n",
    "\n",
    "for i in s:\n",
    "    if i.islower():\n",
    "        c1+=1\n",
    "    if i.isupper():\n",
    "        c2+=1\n",
    "    if i.isnum():\n",
    "        c3+=1\n",
    "    if i.isalpha():\n",
    "        c4+=1\n",
    "    if i.isalnum():\n",
    "        c5+=1\n",
    "    if not i.isnumeric():\n",
    "        c6+=1\n",
    "print(c1)"
   ]
  },
  {
   "cell_type": "code",
   "execution_count": null,
   "metadata": {},
   "outputs": [],
   "source": [
    "s = 'abcdefghi'\n",
    "if len(s)%2 ==0:\n",
    "    print(s[-2::-2])\n",
    "    \n",
    "else:\n",
    "    print(s[-1::-2])\n",
    "    #print(s2)\n",
    "    "
   ]
  },
  {
   "cell_type": "code",
   "execution_count": null,
   "metadata": {},
   "outputs": [],
   "source": [
    "#Pallindrome\n",
    "\n",
    "def SolutionEven(s):\n",
    "    fh = s[:len(s)//2:1]\n",
    "    sh = s[len(s)//2::1]\n",
    "    rfh = int(fh[::-1])\n",
    "    sh = int(sh)\n",
    "    \n",
    "    if rfh>sh:\n",
    "        fh+str(rfh)\n",
    "    else:\n",
    "        extra = int(fh)+1\n",
    "        str(extra) + str(extra)[::-1]\n",
    "def SolutionOdd(s):\n",
    "    fh = s[:len(s)//2:1]\n",
    "    sh = s[len(s)//2+1::1]\n",
    "    mid = s[len//2]\n",
    "    rfh = fh[::-1]\n",
    "    \n",
    "    if int(rfh)>int(sh):\n",
    "        "
   ]
  },
  {
   "cell_type": "code",
   "execution_count": null,
   "metadata": {},
   "outputs": [],
   "source": [
    "lst = [10,20,20,10,10,30,50,10,20]\n",
    "x = set(lst)\n",
    "print(x)\n",
    "result = []\n",
    "s=0\n",
    "for i in x:\n",
    "    res = lst.count(i)\n",
    "    result.append(res)\n",
    "print(result)\n",
    "for i in result:\n",
    "    s=s+(i//2)\n",
    "    if (i//2)!=0:\n",
    "        \n",
    "print(s)"
   ]
  },
  {
   "cell_type": "markdown",
   "metadata": {},
   "source": [
    "## BALANCED PARANTHESIS"
   ]
  },
  {
   "cell_type": "code",
   "execution_count": null,
   "metadata": {},
   "outputs": [],
   "source": [
    "\n",
    "def balancedparanthesis(str1,pchar):\n",
    "    for i in str1:\n",
    "        if i in pchar:\n",
    "            stacklist.append(i)\n",
    "        elif len(stacklist) == 0 or pchar[stacklist.pop()]!=i:\n",
    "            return False\n",
    "    return len(stacklist)== 0\n",
    "\n",
    "str1 = \"(){[)}\"\n",
    "str2 = \"{}\"\n",
    "str3 = \"(()\"\n",
    "str4 = \"][\"\n",
    "\n",
    "stacklist = []\n",
    "pchar = {\"(\":\")\",\n",
    "         \"{\":\"}\",\n",
    "         \"[\":\"]\"\n",
    "        }\n",
    "\n",
    "balancedparanthesis(str4,pchar)"
   ]
  },
  {
   "cell_type": "markdown",
   "metadata": {},
   "source": [
    "## BALANCED PARANTHESIS CLASS PROGRAM"
   ]
  },
  {
   "cell_type": "code",
   "execution_count": null,
   "metadata": {},
   "outputs": [],
   "source": [
    "def Solution(s):\n",
    "    stack=[]\n",
    "    for i in range(len(s)):\n",
    "        if s[i] in '{[(':\n",
    "            stack.append(s[i])\n",
    "        else:\n",
    "            if s[i]==')' and stack[-1]=='(':\n",
    "                stack.pop()\n",
    "            elif s[i]==']' and stack[-1]=='[':\n",
    "                stack.pop()\n",
    "            elif s[i]=='}' and stack[-1]=='{':\n",
    "                stack.pop()\n",
    "            else:\n",
    "                return i+1\n",
    "    if len(stack)!=0:\n",
    "        return len(s)+1\n",
    "    else:\n",
    "        return 0\n",
    "Solution(\"(){[)}\")"
   ]
  },
  {
   "cell_type": "code",
   "execution_count": null,
   "metadata": {},
   "outputs": [],
   "source": [
    "def Solution(str1):\n",
    "    res = \"\"\n",
    "    for i in range(len(str1)):\n",
    "        t = \"\"\n",
    "        for j in range(i,len(str1)):\n",
    "            if str1[i] in t:\n",
    "                break\n",
    "            else:\n",
    "                t = t+ str1[j]\n",
    "            if len(t)>len(res):\n",
    "                res = t\n",
    "    return res\n",
    "    \n",
    "str1 = \"abcdacbxy\"\n",
    "\n",
    "x= Solution(str1)\n",
    "print(x)"
   ]
  },
  {
   "cell_type": "code",
   "execution_count": null,
   "metadata": {},
   "outputs": [],
   "source": [
    "str1 = \"2*5#6$ab#91\"\n",
    "s = \"\"\n",
    "\n",
    "for i in str1:\n",
    "    if i.isdigit():\n",
    "        s+=i\n",
    "print(s)\n",
    "\n",
    "lst = list(s)\n",
    "\n",
    "print(lst)\n",
    "\n",
    "lst.sort(reverse=True)\n",
    "\n",
    "print(lst)\n",
    "\n",
    "x =\"\"\n",
    "for i in lst:\n",
    "    x+=i\n",
    "y = int(x)    \n",
    "print(type(y))\n",
    "\n",
    "\n",
    "max = []\n",
    "count = 0\n",
    "\n",
    "\n",
    "for num in range(y,y-10,-1): \n",
    "    if num%2==0:\n",
    "        max.append(num)\n",
    "print(max[0])\n",
    "print(max)"
   ]
  },
  {
   "cell_type": "code",
   "execution_count": null,
   "metadata": {},
   "outputs": [],
   "source": [
    "x = int(96520)\n",
    "if x%2==0:\n",
    "    print('yes')\n",
    "else:\n",
    "    print('no')"
   ]
  },
  {
   "cell_type": "code",
   "execution_count": null,
   "metadata": {},
   "outputs": [],
   "source": [
    "n = 10\n",
    "for num in reversed(range(n + 1)) : \n",
    "    print (num, end = \" \") "
   ]
  },
  {
   "cell_type": "code",
   "execution_count": null,
   "metadata": {},
   "outputs": [],
   "source": [
    "n=10\n",
    "for num in range(n,5 , -1) : \n",
    "    print (num, end = \" \")"
   ]
  },
  {
   "cell_type": "code",
   "execution_count": null,
   "metadata": {},
   "outputs": [],
   "source": [
    "str1 = \"(){})\"\n",
    "\n",
    "lst = []\n",
    "str2 = {\"(\":\")\",\n",
    "         \"{\":\"}\",\n",
    "         \"[\":\"]\"}\n",
    "for i in str1:\n",
    "        if i in str2:\n",
    "            lst.append(i)\n",
    "        elif len(lst)==0 or str2[lst.pop()]!=i:\n",
    "            print('false')\n",
    "        else:\n",
    "            print('true')"
   ]
  },
  {
   "cell_type": "code",
   "execution_count": null,
   "metadata": {},
   "outputs": [],
   "source": [
    "class py_solution:\n",
    "   def is_valid_parenthese(self, str1):\n",
    "        stack, pchar = [], {\"(\": \")\", \"{\": \"}\", \"[\": \"]\"}\n",
    "        for parenthese in str1:\n",
    "            if parenthese in pchar:\n",
    "                stack.append(parenthese)\n",
    "            elif len(stack) == 0 or pchar[stack.pop()] != parenthese:\n",
    "                return False\n",
    "        return len(stack) == 0\n",
    "\n",
    "print(py_solution().is_valid_parenthese(\"(){}[]\"))\n",
    "print(py_solution().is_valid_parenthese(\"()[{)}\"))\n",
    "print(py_solution().is_valid_parenthese(\"()\"))"
   ]
  },
  {
   "cell_type": "code",
   "execution_count": 29,
   "metadata": {},
   "outputs": [
    {
     "name": "stdout",
     "output_type": "stream",
     "text": [
      "['English', '=', '78', 'Science', '=', '83', 'Math', '=', '68', 'science', '=', '9']\n",
      "['78', '83', '68', '9']\n",
      "['78', '83', '68', '9']\n",
      "Total sum is:  238\n",
      "['78', '83', '68', '9']\n",
      "Average is:  59.5\n"
     ]
    }
   ],
   "source": [
    "def Sumx(marks):\n",
    "    \n",
    "    print(marks)\n",
    "    countsum = 0\n",
    "    for i in range(0,len(marks)):\n",
    "        countsum += int(marks[i])\n",
    "    return countsum\n",
    "\n",
    "def Averagex(Sum,marks):\n",
    "    average = Sum / len(marks)\n",
    "    return average\n",
    "\n",
    "str1 = \"English = 78 Science = 83 Math = 68 science = 9\"\n",
    "marks = []\n",
    "str2 = str1.split()\n",
    "lst = list(str2)\n",
    "print(str2)\n",
    "\n",
    "for i in lst:\n",
    "    if i.isdigit():\n",
    "        marks.append(i)\n",
    "print(marks)\n",
    "\n",
    "\n",
    "print('Total sum is: ',Sumx(marks))\n",
    "\n",
    "print('Average is: ',Averagex(Sumx(marks),marks))\n",
    "\n",
    "        "
   ]
  },
  {
   "cell_type": "code",
   "execution_count": 30,
   "metadata": {},
   "outputs": [
    {
     "name": "stdout",
     "output_type": "stream",
     "text": [
      "238\n",
      "59.5\n"
     ]
    }
   ],
   "source": [
    "s= \"English = 78 Science = 83 Math = 68 science = 9\"\n",
    "sum=0\n",
    "c=0\n",
    "l=s.split()\n",
    "l2=[]\n",
    "for i in l:\n",
    "    if i.isnumeric():\n",
    "        c+=1\n",
    "        l2.append(i)\n",
    "for i in l2:\n",
    "    sum+=int(i)\n",
    "print(sum)\n",
    "print(sum/c)"
   ]
  },
  {
   "cell_type": "code",
   "execution_count": null,
   "metadata": {},
   "outputs": [],
   "source": []
  }
 ],
 "metadata": {
  "kernelspec": {
   "display_name": "Python 3",
   "language": "python",
   "name": "python3"
  },
  "language_info": {
   "codemirror_mode": {
    "name": "ipython",
    "version": 3
   },
   "file_extension": ".py",
   "mimetype": "text/x-python",
   "name": "python",
   "nbconvert_exporter": "python",
   "pygments_lexer": "ipython3",
   "version": "3.7.4"
  }
 },
 "nbformat": 4,
 "nbformat_minor": 4
}
