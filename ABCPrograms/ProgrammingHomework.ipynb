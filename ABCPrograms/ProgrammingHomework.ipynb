{
 "cells": [
  {
   "cell_type": "markdown",
   "metadata": {},
   "source": [
    "## Write a program to print the zig-zag list\n",
    "INPUT [5,9,6,4,7] <br>\n",
    "OUTPUT [9,5,4,6,7]"
   ]
  },
  {
   "cell_type": "code",
   "execution_count": 1,
   "metadata": {},
   "outputs": [
    {
     "name": "stdout",
     "output_type": "stream",
     "text": [
      "[9, 5, 4, 6, 7]\n"
     ]
    }
   ],
   "source": [
    "lst = [5,9,6,4,7]\n",
    "\n",
    "i = 0\n",
    "while i < len(lst)-1:\n",
    "    lst[i],lst[i+1] = lst[i+1],lst[i]\n",
    "    i = i+2\n",
    "    \n",
    "print(lst)\n",
    "    "
   ]
  },
  {
   "cell_type": "markdown",
   "metadata": {},
   "source": [
    "## WAP to sort the array in the below given format\n",
    "\n",
    "INPUT = 5,7,2,-8,-4,-6,-2,3,1 <br>\n",
    "OUTPUT 1,2,3,5,7,-2,-4,-6,-8\n"
   ]
  },
  {
   "cell_type": "code",
   "execution_count": 2,
   "metadata": {},
   "outputs": [
    {
     "name": "stdout",
     "output_type": "stream",
     "text": [
      "[1, 2, 3, 5, 7, -2, -4, -6, -8]\n"
     ]
    }
   ],
   "source": [
    "lst = [5,7,2,-8,-4,-6,-2,3,1]\n",
    "positive = []\n",
    "negative = []\n",
    "\n",
    "for i in lst:\n",
    "    if i >= 0:\n",
    "        positive.append(i)\n",
    "    else:\n",
    "        negative.append(i)\n",
    "\n",
    "positive.sort()\n",
    "negative.sort(reverse=True)\n",
    "\n",
    "lst= positive + negative\n",
    "print(lst)"
   ]
  },
  {
   "cell_type": "markdown",
   "metadata": {},
   "source": [
    "## WAP to sort the array in the given below format\n",
    "\n",
    "INPUT: 5,7,2,-8,-4,-6,-2,3,1 <br>\n",
    "op : 7,5,3,2,1,-2,-4,-6,-8"
   ]
  },
  {
   "cell_type": "code",
   "execution_count": 3,
   "metadata": {},
   "outputs": [
    {
     "name": "stdout",
     "output_type": "stream",
     "text": [
      "[7, 5, 3, 2, 1, -8, -6, -4, -2]\n"
     ]
    }
   ],
   "source": [
    "lst = [5,7,2,-8,-4,-6,-2,3,1]\n",
    "positive = []\n",
    "negative = []\n",
    "\n",
    "for i in lst:\n",
    "    if i >= 0:\n",
    "        positive.append(i)\n",
    "    else:\n",
    "        negative.append(i)\n",
    "\n",
    "positive.sort(reverse=True)\n",
    "negative.sort()\n",
    "\n",
    "lst= positive + negative\n",
    "print(lst)"
   ]
  },
  {
   "cell_type": "markdown",
   "metadata": {},
   "source": [
    "## WAP To sort the array\n",
    "ip: 5,7,2,-,8,-6,-2,3,1 <br>\n",
    "op : 7,5,3,2,1,-8,-6,-4,-2"
   ]
  },
  {
   "cell_type": "code",
   "execution_count": 4,
   "metadata": {},
   "outputs": [
    {
     "name": "stdout",
     "output_type": "stream",
     "text": [
      "[7, 5, 3, 2, 1, -8, -6, -4, -2]\n"
     ]
    }
   ],
   "source": [
    "lst = [5,7,2,-8,-4,-6,-2,3,1]\n",
    "positive = []\n",
    "negative = []\n",
    "\n",
    "for i in lst:\n",
    "    if i >= 0:\n",
    "        positive.append(i)\n",
    "    else:\n",
    "        negative.append(i)\n",
    "\n",
    "positive.sort(reverse =True)\n",
    "negative.sort(reverse=False)\n",
    "\n",
    "lst= positive + negative\n",
    "print(lst)"
   ]
  },
  {
   "cell_type": "markdown",
   "metadata": {},
   "source": [
    "## WAP to rearrange the elements\n",
    "ip: 5,7,2,-8,-4,-6,-2,3,1 <br>\n",
    "op: 5,7,2,3,-8,-1,-4,-6,-2"
   ]
  },
  {
   "cell_type": "code",
   "execution_count": 5,
   "metadata": {},
   "outputs": [
    {
     "name": "stdout",
     "output_type": "stream",
     "text": [
      "[5, 7, 2, 3, -6, -8, -2, -4, -1]\n"
     ]
    }
   ],
   "source": [
    "lst = [5,7,2,-8,-4,-6,-2,3,-1]\n",
    "positive = []\n",
    "negative = []\n",
    "\n",
    "for i in lst:\n",
    "    if i >= 0:\n",
    "        positive.append(i)\n",
    "    else:\n",
    "        negative.append(i)\n",
    "\n",
    "positive.sort(reverse = True)\n",
    "negative.sort()\n",
    "\n",
    "lst= positive + negative\n",
    "\n",
    "\n",
    "i = 0\n",
    "while i < len(lst)-1:\n",
    "    lst[i],lst[i+1] = lst[i+1],lst[i]\n",
    "    i = i+2\n",
    "    \n",
    "print(lst)"
   ]
  },
  {
   "cell_type": "markdown",
   "metadata": {},
   "source": [
    "## WAP to sort the array\n",
    "ip: 5,7,2,-8,-4,-6,-2,3,1 <br>\n",
    "op 5,7,2,3,-2,1,-6,-4,-8"
   ]
  },
  {
   "cell_type": "code",
   "execution_count": 6,
   "metadata": {},
   "outputs": [
    {
     "name": "stdout",
     "output_type": "stream",
     "text": [
      "[5, 7, 2, 3, -2, 1, -6, -4, -8]\n"
     ]
    }
   ],
   "source": [
    "lst = [5,7,2,-8,-4,-6,-2,3,1]\n",
    "positive = []\n",
    "negative = []\n",
    "\n",
    "for i in lst:\n",
    "    if i >= 0:\n",
    "        positive.append(i)\n",
    "    else:\n",
    "        negative.append(i)\n",
    "\n",
    "positive.sort(reverse = True)\n",
    "negative.sort(reverse = True)\n",
    "\n",
    "lst= positive + negative\n",
    "\n",
    "i = 0\n",
    "while i < len(lst)-1:\n",
    "    lst[i],lst[i+1] = lst[i+1],lst[i]\n",
    "    i = i+2\n",
    "    \n",
    "print(lst)"
   ]
  },
  {
   "cell_type": "markdown",
   "metadata": {},
   "source": [
    "## wap to extract the digits from string\n",
    "\n",
    "ip: 1a6-8*/5 <br>\n",
    "op: 1685 <br>\n",
    "\n",
    "ip: -uk47ru6K8 <br>\n",
    "op: -4768 <br>"
   ]
  },
  {
   "cell_type": "code",
   "execution_count": 11,
   "metadata": {},
   "outputs": [
    {
     "name": "stdout",
     "output_type": "stream",
     "text": [
      "1685\n"
     ]
    }
   ],
   "source": [
    "str1 = '1a6-8*/5'\n",
    "str2 = \"\"\n",
    "for i in str1:\n",
    "    if (i.isdigit()==True):\n",
    "        str2 += i     \n",
    "print(str2)"
   ]
  },
  {
   "cell_type": "code",
   "execution_count": 22,
   "metadata": {},
   "outputs": [
    {
     "name": "stdout",
     "output_type": "stream",
     "text": [
      "-1685\n"
     ]
    }
   ],
   "source": [
    "str1 = '-1a6-8*/5'\n",
    "str2 = str1[0:1]\n",
    "str3 = str1[1:]\n",
    "result = \"\"\n",
    "for i in str3:\n",
    "    if (i.isdigit()==True):\n",
    "        result += i\n",
    "newresult = str2 + result\n",
    "print(newresult)"
   ]
  },
  {
   "cell_type": "markdown",
   "metadata": {},
   "source": [
    "## wap to sort the list of elements in reverse order"
   ]
  },
  {
   "cell_type": "code",
   "execution_count": 33,
   "metadata": {},
   "outputs": [
    {
     "name": "stdout",
     "output_type": "stream",
     "text": [
      "[33, 9, 7, 5, 2, 1]\n"
     ]
    }
   ],
   "source": [
    "lst = [1,2,5,7,9,33]\n",
    "lst.reverse()\n",
    "print(lst)"
   ]
  },
  {
   "cell_type": "code",
   "execution_count": 57,
   "metadata": {},
   "outputs": [
    {
     "name": "stdout",
     "output_type": "stream",
     "text": [
      "[33, 9, 7, 5, 2, 1]\n"
     ]
    }
   ],
   "source": [
    "def reverse_sort(arr):\n",
    "    for n in range(1,len(arr)):\n",
    "        for k in range((len(arr)-1)):\n",
    "            # If we come to a point to switch\n",
    "            if arr[k]<arr[k+1]:\n",
    "                arr[k],arr[k+1] = arr[k+1],arr[k]\n",
    "arr = [1,2,5,7,9,33]\n",
    "bubble_sort(arr)\n",
    "print(arr)"
   ]
  },
  {
   "cell_type": "code",
   "execution_count": 56,
   "metadata": {},
   "outputs": [
    {
     "name": "stdout",
     "output_type": "stream",
     "text": [
      "[33, 9, 7, 5, 2, 1]\n"
     ]
    }
   ],
   "source": [
    "lst = [1,2,5,7,9,33]\n",
    "lst1 = [data for data in reversed(lst)] \n",
    "print(lst1)"
   ]
  },
  {
   "cell_type": "markdown",
   "metadata": {},
   "source": [
    "## WAP to remove all lowercase alphabets in a given string"
   ]
  },
  {
   "cell_type": "code",
   "execution_count": 59,
   "metadata": {},
   "outputs": [
    {
     "name": "stdin",
     "output_type": "stream",
     "text": [
      "Enter the String:  VinAyZ\n"
     ]
    },
    {
     "name": "stdout",
     "output_type": "stream",
     "text": [
      "VAZ\n"
     ]
    }
   ],
   "source": [
    "str1 = input(\"Enter the String: \")\n",
    "result=\"\"\n",
    "for char in str1:\n",
    "    if char.islower() == False:\n",
    "        result+=char\n",
    "print(result)\n"
   ]
  },
  {
   "cell_type": "markdown",
   "metadata": {},
   "source": [
    "## WAP to remove all uppercase alphabest in a given string"
   ]
  },
  {
   "cell_type": "code",
   "execution_count": 67,
   "metadata": {},
   "outputs": [
    {
     "name": "stdin",
     "output_type": "stream",
     "text": [
      "Enter the String:  VINAYahshsh\n"
     ]
    },
    {
     "name": "stdout",
     "output_type": "stream",
     "text": [
      "ahshsh\n"
     ]
    }
   ],
   "source": [
    "# [print(i,end=\"\") for i in input(\"Enter a String: \") if (i.isupper()==False)]\n",
    "\n",
    "str1 = input(\"Enter the String: \")\n",
    "result=\"\"\n",
    "for char in str1:\n",
    "    if char.isupper() == False:\n",
    "        result+=char\n",
    "print(result)\n"
   ]
  },
  {
   "cell_type": "markdown",
   "metadata": {},
   "source": [
    "## WAP to remove all numeric characters from a given input String"
   ]
  },
  {
   "cell_type": "code",
   "execution_count": 70,
   "metadata": {},
   "outputs": [
    {
     "name": "stdin",
     "output_type": "stream",
     "text": [
      "Enter the String:  HelloWORld123!@#$\n"
     ]
    },
    {
     "name": "stdout",
     "output_type": "stream",
     "text": [
      "HelloWORld!@#$\n"
     ]
    }
   ],
   "source": [
    "str1 = input(\"Enter the String: \")\n",
    "result=\"\"\n",
    "for char in str1:\n",
    "    if not (char.isnumeric()):\n",
    "        result+=char\n",
    "print(result)"
   ]
  },
  {
   "cell_type": "markdown",
   "metadata": {},
   "source": [
    "## 11) WAP to remove all lowercase vowels from an input string"
   ]
  },
  {
   "cell_type": "code",
   "execution_count": 72,
   "metadata": {},
   "outputs": [
    {
     "name": "stdin",
     "output_type": "stream",
     "text": [
      "Enter the String:  aeHELLO\n"
     ]
    },
    {
     "name": "stdout",
     "output_type": "stream",
     "text": [
      "HELLO\n"
     ]
    }
   ],
   "source": [
    "str1 = input(\"Enter the String: \")\n",
    "result=\"\"\n",
    "for char in str1:\n",
    "    if char not in 'aeiou':\n",
    "        result+=char\n",
    "print(result)"
   ]
  },
  {
   "cell_type": "markdown",
   "metadata": {},
   "source": [
    "## 12 WAP to remove all uppercase vowels from an input string"
   ]
  },
  {
   "cell_type": "code",
   "execution_count": 73,
   "metadata": {},
   "outputs": [
    {
     "name": "stdin",
     "output_type": "stream",
     "text": [
      "Enter the String:  AEIOUHello\n"
     ]
    },
    {
     "name": "stdout",
     "output_type": "stream",
     "text": [
      "Hello\n"
     ]
    }
   ],
   "source": [
    "str1 = input(\"Enter the String: \")\n",
    "result=\"\"\n",
    "for char in str1:\n",
    "    if char not in 'AEIOU':\n",
    "        result+=char\n",
    "print(result)"
   ]
  },
  {
   "cell_type": "markdown",
   "metadata": {},
   "source": [
    "## 14. WAP to remove all special characters in a given string"
   ]
  },
  {
   "cell_type": "code",
   "execution_count": 76,
   "metadata": {},
   "outputs": [
    {
     "name": "stdin",
     "output_type": "stream",
     "text": [
      "Enter the String:  HelloWORld123!@#$\n"
     ]
    },
    {
     "name": "stdout",
     "output_type": "stream",
     "text": [
      "HelloWORld123\n"
     ]
    }
   ],
   "source": [
    "str1 = input(\"Enter the String: \")\n",
    "result=\"\"\n",
    "for char in str1:\n",
    "    if char.isalpha() or char.isdigit():\n",
    "        result+=char\n",
    "print(result)"
   ]
  },
  {
   "cell_type": "markdown",
   "metadata": {},
   "source": [
    "## 15.WAP to remove all alpha-numeric characters from a given input string"
   ]
  },
  {
   "cell_type": "code",
   "execution_count": 82,
   "metadata": {},
   "outputs": [
    {
     "name": "stdin",
     "output_type": "stream",
     "text": [
      "Enter the String:  HelloWORld123!@#$\n"
     ]
    },
    {
     "name": "stdout",
     "output_type": "stream",
     "text": [
      "!@#$\n"
     ]
    }
   ],
   "source": [
    "str1 = input(\"Enter the String: \")\n",
    "result=\"\"\n",
    "for char in str1:\n",
    "    if not(char.isalnum()):\n",
    "        result+=char\n",
    "print(result)"
   ]
  },
  {
   "cell_type": "markdown",
   "metadata": {},
   "source": [
    "## 16) WAP to count spaces from a given string"
   ]
  },
  {
   "cell_type": "code",
   "execution_count": 85,
   "metadata": {},
   "outputs": [
    {
     "name": "stdin",
     "output_type": "stream",
     "text": [
      "Enter the String:  He llo Wor ld %$# 123\n"
     ]
    },
    {
     "name": "stdout",
     "output_type": "stream",
     "text": [
      "5\n"
     ]
    }
   ],
   "source": [
    "str1 = input(\"Enter the String: \")\n",
    "count = 0\n",
    "for char in str1:\n",
    "    if char.isspace():\n",
    "        count +=1\n",
    "print(count)"
   ]
  },
  {
   "cell_type": "code",
   "execution_count": null,
   "metadata": {},
   "outputs": [],
   "source": []
  }
 ],
 "metadata": {
  "kernelspec": {
   "display_name": "Python 3",
   "language": "python",
   "name": "python3"
  },
  "language_info": {
   "codemirror_mode": {
    "name": "ipython",
    "version": 3
   },
   "file_extension": ".py",
   "mimetype": "text/x-python",
   "name": "python",
   "nbconvert_exporter": "python",
   "pygments_lexer": "ipython3",
   "version": "3.7.4"
  }
 },
 "nbformat": 4,
 "nbformat_minor": 4
}
