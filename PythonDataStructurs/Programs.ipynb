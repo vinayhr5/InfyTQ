{
 "cells": [
  {
   "cell_type": "code",
   "execution_count": 4,
   "metadata": {},
   "outputs": [
    {
     "name": "stdout",
     "output_type": "stream",
     "text": [
      "Search results:\n",
      "Jack   56789   Jack_xyz@infosys.com\n",
      "Jackson   67895   Jackson_xyz@infosys.com\n",
      "Henry Jack   23456   Jacky_xyz@infosys.com\n"
     ]
    },
    {
     "data": {
      "text/plain": [
       "[<__main__.Employee at 0x7f49d07078d0>,\n",
       " <__main__.Employee at 0x7f49d0707c90>,\n",
       " <__main__.Employee at 0x7f49d0707c50>]"
      ]
     },
     "execution_count": 4,
     "metadata": {},
     "output_type": "execute_result"
    }
   ],
   "source": [
    "class Employee:\n",
    "    def __init__(self, name, emp_id, email_id):\n",
    "        self.__name=name\n",
    "        self.__emp_id=emp_id\n",
    "        self.__email_id=email_id\n",
    "\n",
    "    def get_name(self):\n",
    "        return self.__name\n",
    "\n",
    "    def get_emp_id(self):\n",
    "        return self.__emp_id\n",
    "\n",
    "    def get_email_id(self):\n",
    "        return self.__email_id\n",
    "\n",
    "class InfosysDirectory:\n",
    "    def __init__(self,emp_list):\n",
    "        self.__emp_list=emp_list\n",
    "\n",
    "    def lookup(self,key_name):\n",
    "        result_list=[]\n",
    "        for emp in self.__emp_list:\n",
    "            if(key_name in emp.get_name()):\n",
    "                result_list.append(emp)\n",
    "        self.display(result_list)\n",
    "        return result_list\n",
    "\n",
    "    def display(self,result_list):\n",
    "        print(\"Search results:\")\n",
    "        for emp in result_list:\n",
    "            print(emp.get_name(),\" \", emp.get_emp_id(),\" \",emp.get_email_id())\n",
    "\n",
    "\n",
    "emp1=Employee(\"Kevin\",24089, \"Kevin_xyz@infosys.com\")\n",
    "emp2=Employee(\"Jack\",56789,\"Jack_xyz@infosys.com\")\n",
    "emp3=Employee(\"Jackson\",67895,\"Jackson_xyz@infosys.com\")\n",
    "emp4=Employee(\"Henry Jack\",23456,\"Jacky_xyz@infosys.com\")\n",
    "emp_list=[emp1,emp2,emp3,emp4]\n",
    "\n",
    "infy_dir=InfosysDirectory(emp_list)\n",
    "#Search for an employee\n",
    "infy_dir.lookup(\"Jack\")"
   ]
  },
  {
   "cell_type": "code",
   "execution_count": 5,
   "metadata": {},
   "outputs": [
    {
     "ename": "AttributeError",
     "evalue": "'list' object has no attribute 'display'",
     "output_type": "error",
     "traceback": [
      "\u001b[0;31m---------------------------------------------------------------------------\u001b[0m",
      "\u001b[0;31mAttributeError\u001b[0m                            Traceback (most recent call last)",
      "\u001b[0;32m<ipython-input-5-9da45ac6e2f5>\u001b[0m in \u001b[0;36m<module>\u001b[0;34m\u001b[0m\n\u001b[1;32m      1\u001b[0m \u001b[0mlst\u001b[0m \u001b[0;34m=\u001b[0m \u001b[0;34m[\u001b[0m\u001b[0;36m1\u001b[0m\u001b[0;34m,\u001b[0m\u001b[0;36m2\u001b[0m\u001b[0;34m,\u001b[0m\u001b[0;36m3\u001b[0m\u001b[0;34m,\u001b[0m\u001b[0;36m4\u001b[0m\u001b[0;34m]\u001b[0m\u001b[0;34m\u001b[0m\u001b[0;34m\u001b[0m\u001b[0m\n\u001b[0;32m----> 2\u001b[0;31m \u001b[0mlst\u001b[0m\u001b[0;34m.\u001b[0m\u001b[0mdisplay\u001b[0m\u001b[0;34m(\u001b[0m\u001b[0;34m)\u001b[0m\u001b[0;34m\u001b[0m\u001b[0;34m\u001b[0m\u001b[0m\n\u001b[0m",
      "\u001b[0;31mAttributeError\u001b[0m: 'list' object has no attribute 'display'"
     ]
    }
   ],
   "source": [
    "#Exercise 1 -Level 1\n",
    "\n",
    "#DSA-Exer-1\n",
    "\n",
    "def update_mark_list(mark_list, new_element, pos):\n",
    "    #Write your logic here\n",
    "    return mark_list\n",
    "\n",
    "def find_mark(mark_list,pos1,pos2):\n",
    "    '''Remove pass and write your logic here to return a list containing\n",
    "    the marks at pos1 and pos2 respectively.'''\n",
    "    pass\n",
    "\n",
    "#Provide different values for the variables and test your program\n",
    "mark_list=[89,78,99,76,77,72,88,99]\n",
    "new_element=69\n",
    "pos=2\n",
    "pos1=5\n",
    "pos2=8\n",
    "print(update_mark_list(mark_list, new_element, pos))\n",
    "print(find_mark(mark_list, pos1, pos2))"
   ]
  },
  {
   "cell_type": "code",
   "execution_count": null,
   "metadata": {},
   "outputs": [],
   "source": []
  }
 ],
 "metadata": {
  "kernelspec": {
   "display_name": "Python 3",
   "language": "python",
   "name": "python3"
  },
  "language_info": {
   "codemirror_mode": {
    "name": "ipython",
    "version": 3
   },
   "file_extension": ".py",
   "mimetype": "text/x-python",
   "name": "python",
   "nbconvert_exporter": "python",
   "pygments_lexer": "ipython3",
   "version": "3.7.4"
  }
 },
 "nbformat": 4,
 "nbformat_minor": 4
}
