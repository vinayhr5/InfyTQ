{
 "cells": [
  {
   "cell_type": "markdown",
   "metadata": {},
   "source": [
    "## Assignment DAY 1 & DAY2"
   ]
  },
  {
   "cell_type": "code",
   "execution_count": 2,
   "metadata": {},
   "outputs": [
    {
     "name": "stdout",
     "output_type": "stream",
     "text": [
      "['FA2', 95]\n"
     ]
    }
   ],
   "source": [
    "# 1\n",
    "marks = [\"FA1\",80,\"FA2\",85,\"FA3\",95]\n",
    "report = marks[-4:]\n",
    "report = report[:1] + marks[5:]\n",
    "print(report)"
   ]
  },
  {
   "cell_type": "code",
   "execution_count": 45,
   "metadata": {},
   "outputs": [
    {
     "name": "stdout",
     "output_type": "stream",
     "text": [
      "Before Swaping: name1=Roger name2=Robert\n",
      "('Robert', 'Roger')\n",
      "After Swaping: name1=Roger name2=Robert\n",
      "New:After Swaping: name1=Robert name2=Roger\n"
     ]
    }
   ],
   "source": [
    "#2\n",
    "name1 = \"Roger\"\n",
    "name2 = \"Robert\"\n",
    "\n",
    "def swap_names(name1,name2):\n",
    "    temp = name1 #temp = roger\n",
    "    name1 = name2 #name1 = robert\n",
    "    name2 = temp #name2 = roger\n",
    "    return name1,name2\n",
    "    \n",
    "print(\"Before Swaping: name1=\"+name1+\" name2=\"+name2)\n",
    "result = swap_names(name1,name2)\n",
    "print(result)\n",
    "print(\"After Swaping: name1=\"+name1+\" name2=\"+name2)\n",
    "print(\"New:After Swaping: name1=\"+result[0]+\" name2=\"+result[1])"
   ]
  },
  {
   "cell_type": "code",
   "execution_count": 17,
   "metadata": {},
   "outputs": [
    {
     "name": "stdout",
     "output_type": "stream",
     "text": [
      "Robert\n",
      "Roger\n",
      "Roger\n",
      "The value of name1 after swapping: Robert\n",
      "The value of name2 after swapping: Roger\n"
     ]
    }
   ],
   "source": []
  },
  {
   "cell_type": "code",
   "execution_count": 27,
   "metadata": {},
   "outputs": [],
   "source": [
    "#3\n",
    "ship_crew = {\n",
    "    \"cocaptain\":\"jack\",\n",
    "    \"chiefofficer\": \"mack\",\n",
    "    \"steward\":\"harry\",\n",
    "    \"cook\":\"mala\"\n",
    "}\n",
    "\n",
    "ship_crew['cocaptain'] = \"Tom\"\n",
    "ship_crew['captain'] = \"jack\""
   ]
  },
  {
   "cell_type": "code",
   "execution_count": 28,
   "metadata": {},
   "outputs": [
    {
     "data": {
      "text/plain": [
       "{'cocaptain': 'Tom',\n",
       " 'chiefofficer': 'mack',\n",
       " 'steward': 'harry',\n",
       " 'cook': 'mala',\n",
       " 'captain': 'jack'}"
      ]
     },
     "execution_count": 28,
     "metadata": {},
     "output_type": "execute_result"
    }
   ],
   "source": [
    "ship_crew"
   ]
  },
  {
   "cell_type": "code",
   "execution_count": 29,
   "metadata": {},
   "outputs": [],
   "source": [
    "ship_crew = {\n",
    "    \"cocaptain\":\"jack\",\n",
    "    \"chiefofficer\": \"mack\",\n",
    "    \"steward\":\"harry\",\n",
    "    \"cook\":\"mala\"\n",
    "}\n",
    "\n",
    "ship_crew['captain'] = ship_crew['cocaptain']\n",
    "ship_crew['cocaptain'] = \"tom\""
   ]
  },
  {
   "cell_type": "code",
   "execution_count": 30,
   "metadata": {},
   "outputs": [
    {
     "data": {
      "text/plain": [
       "{'cocaptain': 'tom',\n",
       " 'chiefofficer': 'mack',\n",
       " 'steward': 'harry',\n",
       " 'cook': 'mala',\n",
       " 'captain': 'jack'}"
      ]
     },
     "execution_count": 30,
     "metadata": {},
     "output_type": "execute_result"
    }
   ],
   "source": [
    "ship_crew"
   ]
  },
  {
   "cell_type": "code",
   "execution_count": 33,
   "metadata": {},
   "outputs": [
    {
     "data": {
      "text/plain": [
       "2"
      ]
     },
     "execution_count": 33,
     "metadata": {},
     "output_type": "execute_result"
    }
   ],
   "source": [
    "#4\n",
    "import math\n",
    "temp = ['mysore','banglore','pune','chennai']\n",
    "temp.sort()\n",
    "count1 = len(temp[0])\n",
    "count2 = len(temp[-1])\n",
    "final_val = math.ceil(count1/count2)\n",
    "final_val"
   ]
  },
  {
   "cell_type": "code",
   "execution_count": 40,
   "metadata": {},
   "outputs": [
    {
     "name": "stdout",
     "output_type": "stream",
     "text": [
      "1.1\n",
      "<class 'float'>\n",
      "1\n",
      "<class 'int'>\n",
      "<class 'float'>\n"
     ]
    }
   ],
   "source": [
    "#5\n",
    "num1 = 11/10\n",
    "print(num1)\n",
    "print(type(num1))\n",
    "num2 = 11%10\n",
    "print(num2)\n",
    "print(type(num2))\n",
    "num3 =20\n",
    "num4 = 40\n",
    "num5 = 5\n",
    "\n",
    "if(num3>num4):\n",
    "    if(num3>num5):\n",
    "        print(num5*num4/num3)\n",
    "    else:\n",
    "        print(num3/num5)\n",
    "else:\n",
    "        if(num1==num2):\n",
    "            print(num4/num3)\n",
    "        else:\n",
    "            print(type(num4/num5))"
   ]
  },
  {
   "cell_type": "code",
   "execution_count": 42,
   "metadata": {},
   "outputs": [
    {
     "name": "stdout",
     "output_type": "stream",
     "text": [
      "0 10\n",
      "1 9\n",
      "2 8\n",
      "3 7\n",
      "4 6\n"
     ]
    }
   ],
   "source": [
    "#6\n",
    "i = 0\n",
    "j = 10\n",
    "while i<=10 and j >=1:\n",
    "    print(i,j)\n",
    "    j = j-1\n",
    "    i = i+1\n",
    "    if(i==j):\n",
    "        break\n"
   ]
  },
  {
   "cell_type": "code",
   "execution_count": 43,
   "metadata": {},
   "outputs": [
    {
     "name": "stdout",
     "output_type": "stream",
     "text": [
      "2.0\n"
     ]
    }
   ],
   "source": [
    "#7\n",
    "x = 4.5\n",
    "y = 2\n",
    "\n",
    "print(x//y)"
   ]
  },
  {
   "cell_type": "code",
   "execution_count": 44,
   "metadata": {},
   "outputs": [
    {
     "data": {
      "text/plain": [
       "float"
      ]
     },
     "execution_count": 44,
     "metadata": {},
     "output_type": "execute_result"
    }
   ],
   "source": [
    "type(x//y)"
   ]
  },
  {
   "cell_type": "code",
   "execution_count": 47,
   "metadata": {},
   "outputs": [
    {
     "name": "stdout",
     "output_type": "stream",
     "text": [
      "1\n"
     ]
    }
   ],
   "source": [
    "#8\n",
    "print(22%3)"
   ]
  },
  {
   "cell_type": "code",
   "execution_count": 48,
   "metadata": {},
   "outputs": [
    {
     "data": {
      "text/plain": [
       "3"
      ]
     },
     "execution_count": 48,
     "metadata": {},
     "output_type": "execute_result"
    }
   ],
   "source": [
    "#9\n",
    "3 * 1 ** 3"
   ]
  },
  {
   "cell_type": "code",
   "execution_count": 49,
   "metadata": {},
   "outputs": [
    {
     "data": {
      "text/plain": [
       "46"
      ]
     },
     "execution_count": 49,
     "metadata": {},
     "output_type": "execute_result"
    }
   ],
   "source": [
    "round(45.8)"
   ]
  },
  {
   "cell_type": "code",
   "execution_count": 54,
   "metadata": {},
   "outputs": [
    {
     "data": {
      "text/plain": [
       "7463.12"
      ]
     },
     "execution_count": 54,
     "metadata": {},
     "output_type": "execute_result"
    }
   ],
   "source": [
    "#10\n",
    "round(7463.123,2) #round takes 2 arguments"
   ]
  },
  {
   "cell_type": "code",
   "execution_count": 55,
   "metadata": {},
   "outputs": [
    {
     "data": {
      "text/plain": [
       "0"
      ]
     },
     "execution_count": 55,
     "metadata": {},
     "output_type": "execute_result"
    }
   ],
   "source": [
    "#11\n",
    "round(0.5)-round(-0.5)"
   ]
  },
  {
   "cell_type": "code",
   "execution_count": 56,
   "metadata": {},
   "outputs": [
    {
     "ename": "SyntaxError",
     "evalue": "invalid syntax (<ipython-input-56-34f5579df2fd>, line 1)",
     "output_type": "error",
     "traceback": [
      "\u001b[0;36m  File \u001b[0;32m\"<ipython-input-56-34f5579df2fd>\"\u001b[0;36m, line \u001b[0;32m1\u001b[0m\n\u001b[0;31m    a b c = 1 2 3\u001b[0m\n\u001b[0m      ^\u001b[0m\n\u001b[0;31mSyntaxError\u001b[0m\u001b[0;31m:\u001b[0m invalid syntax\n"
     ]
    }
   ],
   "source": [
    "a b c = 1 2 3"
   ]
  },
  {
   "cell_type": "code",
   "execution_count": 59,
   "metadata": {},
   "outputs": [
    {
     "data": {
      "text/plain": [
       "7"
      ]
     },
     "execution_count": 59,
     "metadata": {},
     "output_type": "execute_result"
    }
   ],
   "source": [
    "#16\n",
    "eval(\"1+3*2\")"
   ]
  },
  {
   "cell_type": "code",
   "execution_count": 60,
   "metadata": {},
   "outputs": [],
   "source": [
    "_a =1"
   ]
  },
  {
   "cell_type": "code",
   "execution_count": 64,
   "metadata": {},
   "outputs": [],
   "source": [
    "__str__ = 1"
   ]
  },
  {
   "cell_type": "code",
   "execution_count": 66,
   "metadata": {},
   "outputs": [
    {
     "data": {
      "text/plain": [
       "1"
      ]
     },
     "execution_count": 66,
     "metadata": {},
     "output_type": "execute_result"
    }
   ],
   "source": [
    "__str__"
   ]
  },
  {
   "cell_type": "code",
   "execution_count": 67,
   "metadata": {},
   "outputs": [],
   "source": [
    "_ = 1"
   ]
  },
  {
   "cell_type": "code",
   "execution_count": 68,
   "metadata": {},
   "outputs": [
    {
     "data": {
      "text/plain": [
       "1"
      ]
     },
     "execution_count": 68,
     "metadata": {},
     "output_type": "execute_result"
    }
   ],
   "source": [
    "_"
   ]
  },
  {
   "cell_type": "code",
   "execution_count": 73,
   "metadata": {},
   "outputs": [],
   "source": [
    "_init_= 3"
   ]
  },
  {
   "cell_type": "code",
   "execution_count": 75,
   "metadata": {},
   "outputs": [
    {
     "ename": "SyntaxError",
     "evalue": "invalid syntax (<ipython-input-75-fd68ac84e27f>, line 1)",
     "output_type": "error",
     "traceback": [
      "\u001b[0;36m  File \u001b[0;32m\"<ipython-input-75-fd68ac84e27f>\"\u001b[0;36m, line \u001b[0;32m1\u001b[0m\n\u001b[0;31m    x = 13 ? 2\u001b[0m\n\u001b[0m           ^\u001b[0m\n\u001b[0;31mSyntaxError\u001b[0m\u001b[0;31m:\u001b[0m invalid syntax\n"
     ]
    }
   ],
   "source": [
    "x = 13 ? 2"
   ]
  },
  {
   "cell_type": "code",
   "execution_count": 81,
   "metadata": {},
   "outputs": [],
   "source": [
    "a=\"he saif\""
   ]
  },
  {
   "cell_type": "code",
   "execution_count": 88,
   "metadata": {},
   "outputs": [
    {
     "name": "stdout",
     "output_type": "stream",
     "text": [
      "1\n",
      "3\n",
      "[44, 2, 3]\n",
      "3 [44, 2, 3]\n",
      "3 44\n"
     ]
    }
   ],
   "source": [
    "def f(value, values):\n",
    "    v = 1\n",
    "    values[0] = 44\n",
    "    print(v)\n",
    "    print(value)\n",
    "    print(values)\n",
    "t = 3\n",
    "v = [1, 2, 3]\n",
    "f(t, v)\n",
    "print(t,v)\n",
    "print(t, v[0])"
   ]
  },
  {
   "cell_type": "code",
   "execution_count": 92,
   "metadata": {},
   "outputs": [
    {
     "ename": "AttributeError",
     "evalue": "'tuple' object has no attribute '_len_'",
     "output_type": "error",
     "traceback": [
      "\u001b[0;31m---------------------------------------------------------------------------\u001b[0m",
      "\u001b[0;31mAttributeError\u001b[0m                            Traceback (most recent call last)",
      "\u001b[0;32m<ipython-input-92-264b522430fc>\u001b[0m in \u001b[0;36m<module>\u001b[0;34m\u001b[0m\n\u001b[1;32m      1\u001b[0m \u001b[0minit_tuple\u001b[0m\u001b[0;34m=\u001b[0m\u001b[0;34m(\u001b[0m\u001b[0;34m)\u001b[0m\u001b[0;34m\u001b[0m\u001b[0;34m\u001b[0m\u001b[0m\n\u001b[0;32m----> 2\u001b[0;31m \u001b[0minit_tuple\u001b[0m\u001b[0;34m.\u001b[0m\u001b[0m_len_\u001b[0m\u001b[0;34m(\u001b[0m\u001b[0;34m)\u001b[0m\u001b[0;34m\u001b[0m\u001b[0;34m\u001b[0m\u001b[0m\n\u001b[0m",
      "\u001b[0;31mAttributeError\u001b[0m: 'tuple' object has no attribute '_len_'"
     ]
    }
   ],
   "source": [
    "init_tuple=()\n",
    "\n",
    "init_tuple.__len__()"
   ]
  },
  {
   "cell_type": "code",
   "execution_count": 98,
   "metadata": {},
   "outputs": [
    {
     "data": {
      "text/plain": [
       "tuple"
      ]
     },
     "execution_count": 98,
     "metadata": {},
     "output_type": "execute_result"
    }
   ],
   "source": [
    "init_tuple_a = 'a', 'b'\n",
    "init_tuple_b = ('a', 'b')\n",
    "\n",
    "type(init_tuple_b)\n",
    "\n",
    "#print (init_tuple_a == init_tuple_b)"
   ]
  },
  {
   "cell_type": "code",
   "execution_count": 99,
   "metadata": {},
   "outputs": [
    {
     "data": {
      "text/plain": [
       "tuple"
      ]
     },
     "execution_count": 99,
     "metadata": {},
     "output_type": "execute_result"
    }
   ],
   "source": [
    "type(init_tuple_a)"
   ]
  },
  {
   "cell_type": "code",
   "execution_count": 100,
   "metadata": {},
   "outputs": [],
   "source": [
    "#45\n",
    "a = {'a':1,'b':2,'c':3}"
   ]
  },
  {
   "cell_type": "code",
   "execution_count": 102,
   "metadata": {},
   "outputs": [
    {
     "ename": "KeyError",
     "evalue": "('a', 'b')",
     "output_type": "error",
     "traceback": [
      "\u001b[0;31m---------------------------------------------------------------------------\u001b[0m",
      "\u001b[0;31mKeyError\u001b[0m                                  Traceback (most recent call last)",
      "\u001b[0;32m<ipython-input-102-bee2295658ef>\u001b[0m in \u001b[0;36m<module>\u001b[0;34m\u001b[0m\n\u001b[0;32m----> 1\u001b[0;31m \u001b[0ma\u001b[0m\u001b[0;34m[\u001b[0m\u001b[0;34m'a'\u001b[0m\u001b[0;34m,\u001b[0m\u001b[0;34m'b'\u001b[0m\u001b[0;34m]\u001b[0m\u001b[0;34m\u001b[0m\u001b[0;34m\u001b[0m\u001b[0m\n\u001b[0m",
      "\u001b[0;31mKeyError\u001b[0m: ('a', 'b')"
     ]
    }
   ],
   "source": [
    "a['a','b']"
   ]
  },
  {
   "cell_type": "code",
   "execution_count": 115,
   "metadata": {},
   "outputs": [
    {
     "name": "stdout",
     "output_type": "stream",
     "text": [
      "{}\n",
      "{}\n",
      "Apple\n",
      "{'Apple': 1}\n",
      "Banana\n",
      "{'Apple': 1, 'Banana': 1}\n",
      "apple\n",
      "{'Apple': 1, 'Banana': 1, 'apple': 1}\n",
      "3\n"
     ]
    }
   ],
   "source": [
    "# 46\n",
    "fruit ={}\n",
    "print(fruit)\n",
    "def addone(index):\n",
    "    print(fruit)\n",
    "    print(index)\n",
    "    if index in fruit:\n",
    "        fruit[index] +=1\n",
    "    else:\n",
    "        fruit[index] = 1\n",
    "addone('Apple')\n",
    "addone('Banana')\n",
    "addone('apple')\n",
    "print(fruit)\n",
    "print((len(fruit)))\n"
   ]
  },
  {
   "cell_type": "code",
   "execution_count": 128,
   "metadata": {},
   "outputs": [
    {
     "name": "stdout",
     "output_type": "stream",
     "text": [
      "4\n"
     ]
    }
   ],
   "source": [
    "#47\n",
    "arr = {}\n",
    "arr[1] = 1\n",
    "arr['1']=2\n",
    "arr[1]+=1\n",
    "sum = 0\n",
    "\n",
    "for k in arr:\n",
    "    sum+=arr[k]\n",
    "   \n",
    "print(sum)"
   ]
  },
  {
   "cell_type": "code",
   "execution_count": 131,
   "metadata": {},
   "outputs": [
    {
     "name": "stdout",
     "output_type": "stream",
     "text": [
      "{1: 1}\n",
      "{1: 1, '1': 2}\n",
      "{1: 4, '1': 2}\n",
      "6\n"
     ]
    }
   ],
   "source": [
    "#48\n",
    "my_dict = {}\n",
    "my_dict[1] = 1\n",
    "print(my_dict)\n",
    "my_dict['1'] = 2\n",
    "print(my_dict)\n",
    "my_dict[1.0] = 4\n",
    "print(my_dict)\n",
    "\n",
    "sum = 0\n",
    "for k in my_dict:\n",
    "    sum += my_dict[k]\n",
    "    \n",
    "print (sum)"
   ]
  },
  {
   "cell_type": "code",
   "execution_count": 141,
   "metadata": {},
   "outputs": [
    {
     "name": "stdout",
     "output_type": "stream",
     "text": [
      "<class 'dict'>\n",
      "{(1, 2, 4): 8}\n",
      "{(1, 2, 4): 8, (4, 2, 1): 10}\n",
      "{(1, 2, 4): 8, (4, 2, 1): 10, (1, 2): 12}\n",
      "30\n",
      "{(1, 2, 4): 8, (4, 2, 1): 10, (1, 2): 12}\n",
      "<class 'builtin_function_or_method'>\n"
     ]
    }
   ],
   "source": [
    "#49\n",
    "my_dict = {}\n",
    "my_dict[(1,2,4)] = 8\n",
    "print(type(my_dict))\n",
    "print(my_dict)\n",
    "my_dict[(4,2,1)] = 10\n",
    "print(my_dict)\n",
    "my_dict[(1,2)] = 12\n",
    "print(my_dict)\n",
    "\n",
    "sum = 0\n",
    "for k in my_dict:\n",
    "    sum += my_dict[k]\n",
    "\n",
    "print (sum)\n",
    "print(my_dict)\n",
    "print(type(my_dict.items))"
   ]
  },
  {
   "cell_type": "code",
   "execution_count": 166,
   "metadata": {},
   "outputs": [
    {
     "name": "stdout",
     "output_type": "stream",
     "text": [
      "{'biscuit': 1}\n",
      "{'biscuit': 1, 'cake': 3}\n",
      "{'jam': 4}\n",
      "{'box': {'biscuit': 1, 'cake': 3}}\n",
      "{'box': {'biscuit': 1, 'cake': 3}, 'jars': {'jam': 4}}\n"
     ]
    },
    {
     "ename": "TypeError",
     "evalue": "unhashable type: 'dict'",
     "output_type": "error",
     "traceback": [
      "\u001b[0;31m---------------------------------------------------------------------------\u001b[0m",
      "\u001b[0;31mTypeError\u001b[0m                                 Traceback (most recent call last)",
      "\u001b[0;32m<ipython-input-166-c310d37f6ff3>\u001b[0m in \u001b[0;36m<module>\u001b[0;34m\u001b[0m\n\u001b[1;32m     13\u001b[0m \u001b[0mcrates\u001b[0m\u001b[0;34m[\u001b[0m\u001b[0;34m'jars'\u001b[0m\u001b[0;34m]\u001b[0m \u001b[0;34m=\u001b[0m \u001b[0mjars\u001b[0m\u001b[0;34m\u001b[0m\u001b[0;34m\u001b[0m\u001b[0m\n\u001b[1;32m     14\u001b[0m \u001b[0mprint\u001b[0m\u001b[0;34m(\u001b[0m\u001b[0mcrates\u001b[0m\u001b[0;34m)\u001b[0m\u001b[0;34m\u001b[0m\u001b[0;34m\u001b[0m\u001b[0m\n\u001b[0;32m---> 15\u001b[0;31m \u001b[0mprint\u001b[0m \u001b[0;34m(\u001b[0m\u001b[0mlen\u001b[0m\u001b[0;34m(\u001b[0m\u001b[0mcrates\u001b[0m\u001b[0;34m[\u001b[0m\u001b[0mbox\u001b[0m\u001b[0;34m]\u001b[0m\u001b[0;34m)\u001b[0m\u001b[0;34m)\u001b[0m\u001b[0;34m\u001b[0m\u001b[0;34m\u001b[0m\u001b[0m\n\u001b[0m",
      "\u001b[0;31mTypeError\u001b[0m: unhashable type: 'dict'"
     ]
    }
   ],
   "source": [
    "#50\n",
    "box = {}\n",
    "jars = {}\n",
    "crates = {}\n",
    "box['biscuit'] = 1\n",
    "print(box)\n",
    "box['cake'] = 3\n",
    "print(box)\n",
    "jars['jam'] = 4\n",
    "print(jars)\n",
    "crates['box'] = box\n",
    "print(crates)\n",
    "crates['jars'] = jars\n",
    "print(crates)\n",
    "print (len(crates[box]))"
   ]
  },
  {
   "cell_type": "code",
   "execution_count": 41,
   "metadata": {},
   "outputs": [
    {
     "name": "stdout",
     "output_type": "stream",
     "text": [
      "0\n",
      "1\n",
      "2\n"
     ]
    }
   ],
   "source": [
    "x = (i for i in range(3))\n",
    "\n",
    "\n",
    "for i in x:\n",
    "     print(i)\n",
    "        \n",
    "for i in x:\n",
    "    print('hello')\n"
   ]
  },
  {
   "cell_type": "code",
   "execution_count": 17,
   "metadata": {},
   "outputs": [
    {
     "name": "stdout",
     "output_type": "stream",
     "text": [
      "0\n",
      "1\n",
      "2\n"
     ]
    }
   ],
   "source": [
    "for x in range(3):\n",
    "    print(x)"
   ]
  },
  {
   "cell_type": "code",
   "execution_count": 32,
   "metadata": {},
   "outputs": [
    {
     "name": "stdout",
     "output_type": "stream",
     "text": [
      "[0, 1, 2, 0]\n",
      "0\n",
      "[0, 1, 2, 1]\n",
      "1\n",
      "[0, 1, 2, 2]\n",
      "2\n",
      "[0, 1, 2, 2]\n",
      "2\n"
     ]
    }
   ],
   "source": [
    "a = [0,1,2,3]\n",
    "\n",
    "for a[-1] in a:\n",
    "   \n",
    "    print(a)\n",
    "    print(a[-1])"
   ]
  },
  {
   "cell_type": "code",
   "execution_count": 43,
   "metadata": {},
   "outputs": [
    {
     "ename": "SyntaxError",
     "evalue": "invalid character in identifier (<ipython-input-43-fa71d7a05c26>, line 2)",
     "output_type": "error",
     "traceback": [
      "\u001b[0;36m  File \u001b[0;32m\"<ipython-input-43-fa71d7a05c26>\"\u001b[0;36m, line \u001b[0;32m2\u001b[0m\n\u001b[0;31m    print(“05d”%X)\u001b[0m\n\u001b[0m              ^\u001b[0m\n\u001b[0;31mSyntaxError\u001b[0m\u001b[0;31m:\u001b[0m invalid character in identifier\n"
     ]
    }
   ],
   "source": [
    "X=\"hi\"\n",
    "print(“05d”%X)"
   ]
  },
  {
   "cell_type": "code",
   "execution_count": 34,
   "metadata": {},
   "outputs": [
    {
     "data": {
      "text/plain": [
       "3"
      ]
     },
     "execution_count": 34,
     "metadata": {},
     "output_type": "execute_result"
    }
   ],
   "source": [
    "a = [0,1,2,3]\n",
    "a[-1]"
   ]
  },
  {
   "cell_type": "code",
   "execution_count": 51,
   "metadata": {},
   "outputs": [
    {
     "name": "stdout",
     "output_type": "stream",
     "text": [
      "000345\n"
     ]
    }
   ],
   "source": [
    "X=345\n",
    "print(\"%06d\"%X)"
   ]
  },
  {
   "cell_type": "code",
   "execution_count": 59,
   "metadata": {},
   "outputs": [
    {
     "name": "stdout",
     "output_type": "stream",
     "text": [
      "--00122\n"
     ]
    }
   ],
   "source": [
    "x = -122\n",
    "print(\"-%06d\"%x)"
   ]
  },
  {
   "cell_type": "code",
   "execution_count": 60,
   "metadata": {},
   "outputs": [
    {
     "name": "stdout",
     "output_type": "stream",
     "text": [
      "34.000000\n"
     ]
    }
   ],
   "source": [
    "x = 34\n",
    "print(\"%f\"%x)"
   ]
  },
  {
   "cell_type": "code",
   "execution_count": 65,
   "metadata": {},
   "outputs": [
    {
     "name": "stdout",
     "output_type": "stream",
     "text": [
      "49\n"
     ]
    }
   ],
   "source": [
    "import sys\n",
    "x = str()\n",
    "print(sys.getsizeof(x))"
   ]
  },
  {
   "cell_type": "code",
   "execution_count": 66,
   "metadata": {},
   "outputs": [
    {
     "name": "stdout",
     "output_type": "stream",
     "text": [
      "56.24\n"
     ]
    }
   ],
   "source": [
    "x=56.236\n",
    "print(\"%.2f\"%x)"
   ]
  },
  {
   "cell_type": "code",
   "execution_count": 68,
   "metadata": {},
   "outputs": [
    {
     "name": "stdout",
     "output_type": "stream",
     "text": [
      "22.19\n"
     ]
    }
   ],
   "source": [
    "x=22.19\n",
    "print(\"%5.2f\"%x)"
   ]
  },
  {
   "cell_type": "code",
   "execution_count": 72,
   "metadata": {},
   "outputs": [
    {
     "name": "stdout",
     "output_type": "stream",
     "text": [
      "-%5d0 989 90 80\n"
     ]
    }
   ],
   "source": [
    "print(\"-%5d0\",989,90,80)"
   ]
  },
  {
   "cell_type": "code",
   "execution_count": 1,
   "metadata": {},
   "outputs": [
    {
     "name": "stdout",
     "output_type": "stream",
     "text": [
      "i am row:  [1, 2]\n",
      "_____________________________\n",
      "i am value of v in 2nd for loop: 1\n",
      "i am value of element in 2nd for loop: 1\n",
      ":::::::::::::::::::::::\n",
      "_____________________________\n",
      "i am value of v in 2nd for loop: 1\n",
      "i am value of element in 2nd for loop: 2\n",
      ":::::::::::::::::::::::\n",
      "i am v now 1\n",
      "i am element now 2\n",
      "new value of v:  2\n",
      "i am row:  [3, 4]\n",
      "_____________________________\n",
      "i am value of v in 2nd for loop: 2\n",
      "i am value of element in 2nd for loop: 3\n",
      ":::::::::::::::::::::::\n",
      "i am v now 2\n",
      "i am element now 3\n",
      "new value of v:  3\n",
      "_____________________________\n",
      "i am value of v in 2nd for loop: 3\n",
      "i am value of element in 2nd for loop: 4\n",
      ":::::::::::::::::::::::\n",
      "i am v now 3\n",
      "i am element now 4\n",
      "new value of v:  4\n",
      "########################\n",
      "final v : 4\n"
     ]
    }
   ],
   "source": [
    "data = [[[1, 2], [3, 4]], [[5, 6], [7, 8]]]\n",
    "\n",
    "def fun(m):\n",
    "   \n",
    "    v = m[0][0] #1\n",
    "    #print(m) #[[1, 2], [3, 4]]\n",
    "  \n",
    "    for row in m:\n",
    "        #[[1, 2], [3, 4]]\n",
    "        print(\"i am row: \",row)\n",
    "        \n",
    "        for element in row: \n",
    "            #print(element)\n",
    "            print(\"_____________________________\")\n",
    "            print(\"i am value of v in 2nd for loop:\",v)\n",
    "            print(\"i am value of element in 2nd for loop:\",element)\n",
    "            print(\":::::::::::::::::::::::\")\n",
    "            if v < element: \n",
    "                print(\"i am v now\",v)\n",
    "                print(\"i am element now\",element)\n",
    "                \n",
    "                v= element\n",
    "                print(\"new value of v: \",v)\n",
    "                \n",
    "    print(\"########################\")\n",
    "    return v\n",
    "\n",
    "print(\"final v :\",fun(data[0]))"
   ]
  },
  {
   "cell_type": "code",
   "execution_count": 100,
   "metadata": {},
   "outputs": [
    {
     "data": {
      "text/plain": [
       "False"
      ]
     },
     "execution_count": 100,
     "metadata": {},
     "output_type": "execute_result"
    }
   ],
   "source": [
    "1<1"
   ]
  },
  {
   "cell_type": "code",
   "execution_count": 141,
   "metadata": {},
   "outputs": [
    {
     "name": "stdout",
     "output_type": "stream",
     "text": [
      "4\n",
      "7\n",
      "11\n",
      "15\n"
     ]
    }
   ],
   "source": [
    "arr = [[1, 2, 3, 4],\n",
    "    [4, 5, 6, 7],\n",
    "    [8, 9, 10, 11],\n",
    "    [12, 13, 14, 15]]\n",
    "\n",
    "for i in range(0, 4):\n",
    "    print(arr[i].pop()) #"
   ]
  },
  {
   "cell_type": "code",
   "execution_count": 15,
   "metadata": {},
   "outputs": [],
   "source": [
    "def f(i,values = []):\n",
    "    values.append(i)\n",
    "    print (values)\n",
    "    #return values"
   ]
  },
  {
   "cell_type": "code",
   "execution_count": 16,
   "metadata": {},
   "outputs": [
    {
     "name": "stdout",
     "output_type": "stream",
     "text": [
      "[1]\n",
      "[1, 2]\n",
      "[1, 2, 3]\n"
     ]
    }
   ],
   "source": [
    "f(1)\n",
    "f(2)\n",
    "f(3)"
   ]
  },
  {
   "cell_type": "code",
   "execution_count": 19,
   "metadata": {},
   "outputs": [
    {
     "name": "stdout",
     "output_type": "stream",
     "text": [
      "2 3 4 5 6 6 "
     ]
    }
   ],
   "source": [
    "arr = [1, 2, 3, 4, 5, 6]\n",
    "for i in range(1, 6):\n",
    "    arr[i - 1] = arr[i]\n",
    "    \n",
    "for i in range(0, 6):\n",
    "    \n",
    "    print(arr[i], end = \" \")"
   ]
  },
  {
   "cell_type": "code",
   "execution_count": 22,
   "metadata": {},
   "outputs": [
    {
     "name": "stdout",
     "output_type": "stream",
     "text": [
      "140310404357728\n",
      "140310404357728\n",
      "['Guava', 'Berry', 'Cherry', 'Papaya']\n",
      "['Guava', 'Berry', 'Cherry', 'Papaya']\n",
      "['Apple', 'Kiwi', 'Cherry', 'Papaya']\n",
      "22\n"
     ]
    }
   ],
   "source": [
    "fruit_list1 = ['Apple', 'Berry', 'Cherry', 'Papaya']\n",
    "fruit_list2 = fruit_list1\n",
    "print(id(fruit_list1))\n",
    "print(id(fruit_list2))\n",
    "\n",
    "fruit_list3 = fruit_list1[:]\n",
    "\n",
    "fruit_list2[0] = 'Guava'\n",
    "fruit_list3[1] = 'Kiwi'\n",
    "\n",
    "print(fruit_list1)\n",
    "print(fruit_list2)\n",
    "print(fruit_list3)\n",
    "\n",
    "sum = 0\n",
    "for ls in (fruit_list1, fruit_list2, fruit_list3):\n",
    "    if ls[0] == 'Guava':\n",
    "        sum += 1\n",
    "    if ls[1] == 'Kiwi':\n",
    "        sum += 20\n",
    "print (sum)"
   ]
  },
  {
   "cell_type": "code",
   "execution_count": 212,
   "metadata": {},
   "outputs": [
    {
     "name": "stdout",
     "output_type": "stream",
     "text": [
      "<class 'str'>\n"
     ]
    }
   ],
   "source": [
    "init_tuple = ('Python') * 3\n",
    "print(type(init_tuple))"
   ]
  },
  {
   "cell_type": "code",
   "execution_count": 217,
   "metadata": {},
   "outputs": [
    {
     "ename": "TypeError",
     "evalue": "'tuple' object does not support item assignment",
     "output_type": "error",
     "traceback": [
      "\u001b[0;31m---------------------------------------------------------------------------\u001b[0m",
      "\u001b[0;31mTypeError\u001b[0m                                 Traceback (most recent call last)",
      "\u001b[0;32m<ipython-input-217-a1efd45b4120>\u001b[0m in \u001b[0;36m<module>\u001b[0;34m\u001b[0m\n\u001b[1;32m      1\u001b[0m \u001b[0minit_tuple\u001b[0m \u001b[0;34m=\u001b[0m \u001b[0;34m(\u001b[0m\u001b[0;36m1\u001b[0m\u001b[0;34m,\u001b[0m\u001b[0;34m)\u001b[0m \u001b[0;34m*\u001b[0m \u001b[0;36m3\u001b[0m\u001b[0;34m\u001b[0m\u001b[0;34m\u001b[0m\u001b[0m\n\u001b[0;32m----> 2\u001b[0;31m \u001b[0minit_tuple\u001b[0m\u001b[0;34m[\u001b[0m\u001b[0;36m0\u001b[0m\u001b[0;34m]\u001b[0m \u001b[0;34m=\u001b[0m \u001b[0;36m2\u001b[0m\u001b[0;34m\u001b[0m\u001b[0;34m\u001b[0m\u001b[0m\n\u001b[0m\u001b[1;32m      3\u001b[0m \u001b[0mprint\u001b[0m\u001b[0;34m(\u001b[0m\u001b[0minit_tuple\u001b[0m\u001b[0;34m)\u001b[0m\u001b[0;34m\u001b[0m\u001b[0;34m\u001b[0m\u001b[0m\n",
      "\u001b[0;31mTypeError\u001b[0m: 'tuple' object does not support item assignment"
     ]
    }
   ],
   "source": [
    "init_tuple = (1,) * 3\n",
    "init_tuple[0] = 2\n",
    "print(init_tuple)"
   ]
  },
  {
   "cell_type": "code",
   "execution_count": 218,
   "metadata": {},
   "outputs": [
    {
     "name": "stdout",
     "output_type": "stream",
     "text": [
      "4\n"
     ]
    }
   ],
   "source": [
    "init_tuple = ((1, 2),) * 7\n",
    "print(len(init_tuple[3:8]))"
   ]
  },
  {
   "cell_type": "code",
   "execution_count": 222,
   "metadata": {},
   "outputs": [
    {
     "name": "stdout",
     "output_type": "stream",
     "text": [
      "c\n",
      "a\n",
      "96\n",
      "b\n",
      "98\n",
      "c\n",
      "97\n"
     ]
    }
   ],
   "source": [
    "dict = {'c': 97, 'a': 96, 'b': 98}\n",
    "print(_)\n",
    "for _ in sorted(dict):\n",
    "    print(_)\n",
    "    print (dict[_])"
   ]
  },
  {
   "cell_type": "code",
   "execution_count": 226,
   "metadata": {},
   "outputs": [
    {
     "name": "stdout",
     "output_type": "stream",
     "text": [
      "{'Name': 'Python', 'Age': '20'}\n",
      "140360829710080\n",
      "140360831029808\n",
      "False\n"
     ]
    }
   ],
   "source": [
    "rec = {\"Name\" : \"Python\", \"Age\":\"20\"}\n",
    "r = rec.copy()\n",
    "print(r)\n",
    "print(id(r))\n",
    "print(id(rec))\n",
    "print(id(r) == id(rec))"
   ]
  },
  {
   "cell_type": "code",
   "execution_count": 233,
   "metadata": {},
   "outputs": [
    {
     "name": "stdout",
     "output_type": "stream",
     "text": [
      "140360830240160\n",
      "140360831181680\n",
      "140360832775280\n",
      "False\n"
     ]
    }
   ],
   "source": [
    "rec = {\"Name\" : \"Python\", \"Age\":\"20\", \"Addr\" : \"NJ\", \"Country\" : \"USA\"}\n",
    "id1 = id(rec)\n",
    "print(id1)\n",
    "del rec\n",
    "rec = {\"Name\" : \"Python\", \"Age\":\"20\", \"Addr\" : \"NJ\", \"Country\" : \"USA\"}\n",
    "id2 = id(rec)\n",
    "print(id(rec))\n",
    "print(id(id2))\n",
    "print(id1 == id2)"
   ]
  },
  {
   "cell_type": "code",
   "execution_count": 236,
   "metadata": {},
   "outputs": [
    {
     "name": "stdout",
     "output_type": "stream",
     "text": [
      "Henno World\n"
     ]
    }
   ],
   "source": [
    "str='Hello World'\n",
    "print (str.replace('l','n',2))"
   ]
  },
  {
   "cell_type": "code",
   "execution_count": 237,
   "metadata": {},
   "outputs": [
    {
     "name": "stdout",
     "output_type": "stream",
     "text": [
      "Good-bye\n"
     ]
    }
   ],
   "source": [
    "str='good-BYE'\n",
    "print (str.capitalize())"
   ]
  },
  {
   "cell_type": "code",
   "execution_count": 242,
   "metadata": {},
   "outputs": [
    {
     "ename": "TypeError",
     "evalue": "unsupported operand type(s) for -: 'str' and 'str'",
     "output_type": "error",
     "traceback": [
      "\u001b[0;31m---------------------------------------------------------------------------\u001b[0m",
      "\u001b[0;31mTypeError\u001b[0m                                 Traceback (most recent call last)",
      "\u001b[0;32m<ipython-input-242-e12bcd1695dc>\u001b[0m in \u001b[0;36m<module>\u001b[0;34m\u001b[0m\n\u001b[0;32m----> 1\u001b[0;31m \u001b[0ma\u001b[0m \u001b[0;34m=\u001b[0m \u001b[0;34m'name '\u001b[0m \u001b[0;34m-\u001b[0m \u001b[0;34m'name'\u001b[0m\u001b[0;34m\u001b[0m\u001b[0;34m\u001b[0m\u001b[0m\n\u001b[0m\u001b[1;32m      2\u001b[0m \u001b[0mprint\u001b[0m\u001b[0;34m(\u001b[0m\u001b[0ma\u001b[0m\u001b[0;34m)\u001b[0m\u001b[0;34m\u001b[0m\u001b[0;34m\u001b[0m\u001b[0m\n",
      "\u001b[0;31mTypeError\u001b[0m: unsupported operand type(s) for -: 'str' and 'str'"
     ]
    }
   ],
   "source": [
    "a = 'name ' - 'name'\n",
    "print(a)"
   ]
  },
  {
   "cell_type": "code",
   "execution_count": 243,
   "metadata": {},
   "outputs": [
    {
     "name": "stdout",
     "output_type": "stream",
     "text": [
      "TechAbc\n"
     ]
    }
   ],
   "source": [
    "print ('Tech' + 'Abc')"
   ]
  },
  {
   "cell_type": "code",
   "execution_count": 244,
   "metadata": {},
   "outputs": [
    {
     "name": "stdout",
     "output_type": "stream",
     "text": [
      "sys I\n"
     ]
    }
   ],
   "source": [
    "str='Infosys India'\n",
    "print (str[4:9])"
   ]
  },
  {
   "cell_type": "code",
   "execution_count": 246,
   "metadata": {},
   "outputs": [
    {
     "name": "stdout",
     "output_type": "stream",
     "text": [
      "5\n"
     ]
    }
   ],
   "source": [
    "str='Recurssion'\n",
    "print(str.rfind('s'))"
   ]
  },
  {
   "cell_type": "code",
   "execution_count": 247,
   "metadata": {},
   "outputs": [
    {
     "name": "stdout",
     "output_type": "stream",
     "text": [
      "hceT roF cbA\n"
     ]
    }
   ],
   "source": [
    "str='Abc For Tech'\n",
    "print (str[::-1])"
   ]
  },
  {
   "cell_type": "code",
   "execution_count": 250,
   "metadata": {},
   "outputs": [
    {
     "name": "stdout",
     "output_type": "stream",
     "text": [
      "AbcInfosys\n"
     ]
    }
   ],
   "source": [
    "print('Abc' 'Infosys')"
   ]
  },
  {
   "cell_type": "code",
   "execution_count": 251,
   "metadata": {},
   "outputs": [
    {
     "ename": "TypeError",
     "evalue": "'str' object does not support item assignment",
     "output_type": "error",
     "traceback": [
      "\u001b[0;31m---------------------------------------------------------------------------\u001b[0m",
      "\u001b[0;31mTypeError\u001b[0m                                 Traceback (most recent call last)",
      "\u001b[0;32m<ipython-input-251-40f5521f5781>\u001b[0m in \u001b[0;36m<module>\u001b[0;34m\u001b[0m\n\u001b[1;32m      1\u001b[0m \u001b[0mstr\u001b[0m\u001b[0;34m=\u001b[0m\u001b[0;34m'Abc Tech'\u001b[0m\u001b[0;34m\u001b[0m\u001b[0;34m\u001b[0m\u001b[0m\n\u001b[0;32m----> 2\u001b[0;31m \u001b[0mstr\u001b[0m\u001b[0;34m[\u001b[0m\u001b[0;36m4\u001b[0m\u001b[0;34m]\u001b[0m\u001b[0;34m=\u001b[0m\u001b[0;34m'-'\u001b[0m\u001b[0;34m\u001b[0m\u001b[0;34m\u001b[0m\u001b[0m\n\u001b[0m\u001b[1;32m      3\u001b[0m \u001b[0mprint\u001b[0m\u001b[0;34m(\u001b[0m\u001b[0mstr\u001b[0m\u001b[0;34m)\u001b[0m\u001b[0;34m\u001b[0m\u001b[0;34m\u001b[0m\u001b[0m\n",
      "\u001b[0;31mTypeError\u001b[0m: 'str' object does not support item assignment"
     ]
    }
   ],
   "source": [
    "str='Abc Tech'\n",
    "str[4]='-'\n",
    "print(str)"
   ]
  },
  {
   "cell_type": "code",
   "execution_count": 252,
   "metadata": {},
   "outputs": [
    {
     "name": "stdout",
     "output_type": "stream",
     "text": [
      "Abc\\nTech\n"
     ]
    }
   ],
   "source": [
    "print(R'Abc\\nTech')"
   ]
  },
  {
   "cell_type": "code",
   "execution_count": 253,
   "metadata": {},
   "outputs": [
    {
     "data": {
      "text/plain": [
       "8"
      ]
     },
     "execution_count": 253,
     "metadata": {},
     "output_type": "execute_result"
    }
   ],
   "source": [
    "len(str)"
   ]
  },
  {
   "cell_type": "code",
   "execution_count": 255,
   "metadata": {},
   "outputs": [
    {
     "data": {
      "text/plain": [
       "8"
      ]
     },
     "execution_count": 255,
     "metadata": {},
     "output_type": "execute_result"
    }
   ],
   "source": [
    "str.__len__()"
   ]
  },
  {
   "cell_type": "code",
   "execution_count": 258,
   "metadata": {},
   "outputs": [
    {
     "name": "stdout",
     "output_type": "stream",
     "text": [
      "4\n"
     ]
    }
   ],
   "source": [
    "str='Hello World'\n",
    "print(str.find('o'))"
   ]
  },
  {
   "cell_type": "code",
   "execution_count": 277,
   "metadata": {},
   "outputs": [
    {
     "name": "stdout",
     "output_type": "stream",
     "text": [
      "****example****\n"
     ]
    }
   ],
   "source": [
    "str='example'\n",
    "print(str.center(15,'*'))"
   ]
  },
  {
   "cell_type": "code",
   "execution_count": 278,
   "metadata": {},
   "outputs": [
    {
     "name": "stdout",
     "output_type": "stream",
     "text": [
      "*****python****\n"
     ]
    }
   ],
   "source": [
    "str='python'\n",
    "print(str.center(15,'*'))"
   ]
  },
  {
   "cell_type": "code",
   "execution_count": null,
   "metadata": {},
   "outputs": [],
   "source": []
  },
  {
   "cell_type": "code",
   "execution_count": 279,
   "metadata": {},
   "outputs": [
    {
     "name": "stdout",
     "output_type": "stream",
     "text": [
      "hello@john!!\n"
     ]
    }
   ],
   "source": [
    "str='Hello@John!!'\n",
    "print(str.lower())"
   ]
  },
  {
   "cell_type": "code",
   "execution_count": 280,
   "metadata": {},
   "outputs": [
    {
     "name": "stdout",
     "output_type": "stream",
     "text": [
      "+0055\n"
     ]
    }
   ],
   "source": [
    "print('+55'.zfill(5))"
   ]
  },
  {
   "cell_type": "code",
   "execution_count": 291,
   "metadata": {},
   "outputs": [
    {
     "name": "stdout",
     "output_type": "stream",
     "text": [
      "Welcome To      Python  Programming\n"
     ]
    }
   ],
   "source": [
    "str='Welcome\\tTo\\tPython\\tProgramming'\n",
    "print(str.expandtabs(8))"
   ]
  },
  {
   "cell_type": "code",
   "execution_count": 300,
   "metadata": {},
   "outputs": [
    {
     "name": "stdout",
     "output_type": "stream",
     "text": [
      "Python\n",
      "Python quiz\n",
      "Python String\n",
      "Python Interview\n",
      "Python questions\n"
     ]
    }
   ],
   "source": [
    "identity = ['Python', 'Python quiz', 'Python String', 'Python Interview', 'Python questions']\n",
    "\n",
    "print(\"\\n\".join(identity))"
   ]
  },
  {
   "cell_type": "code",
   "execution_count": 314,
   "metadata": {},
   "outputs": [
    {
     "name": "stdout",
     "output_type": "stream",
     "text": [
      "False\n"
     ]
    }
   ],
   "source": [
    "print(u'2.124'.isnumeric())"
   ]
  },
  {
   "cell_type": "code",
   "execution_count": 317,
   "metadata": {},
   "outputs": [
    {
     "name": "stdout",
     "output_type": "stream",
     "text": [
      "Python String Concepts\n"
     ]
    }
   ],
   "source": [
    "str='PYTHON string concepts'\n",
    "print(str.title())"
   ]
  },
  {
   "cell_type": "code",
   "execution_count": 318,
   "metadata": {},
   "outputs": [
    {
     "name": "stdout",
     "output_type": "stream",
     "text": [
      "*example**\n"
     ]
    }
   ],
   "source": [
    "str='example'\n",
    "print (str.center(10,'*'))"
   ]
  },
  {
   "cell_type": "code",
   "execution_count": 323,
   "metadata": {},
   "outputs": [
    {
     "name": "stdout",
     "output_type": "stream",
     "text": [
      "['PYTHON', 'String', 'Concepts']\n"
     ]
    }
   ],
   "source": [
    "str='PYTHON\\nString\\nConcepts'\n",
    "print(str.splitlines())"
   ]
  },
  {
   "cell_type": "code",
   "execution_count": 327,
   "metadata": {},
   "outputs": [
    {
     "name": "stdout",
     "output_type": "stream",
     "text": [
      "6\n"
     ]
    }
   ],
   "source": [
    "str='abbabadaadbbaccabc'\n",
    "print (str.count('a',2))"
   ]
  },
  {
   "cell_type": "code",
   "execution_count": 3,
   "metadata": {},
   "outputs": [
    {
     "name": "stdout",
     "output_type": "stream",
     "text": [
      "0b\n"
     ]
    }
   ],
   "source": [
    "print('b'.zfill(2))"
   ]
  },
  {
   "cell_type": "code",
   "execution_count": 7,
   "metadata": {},
   "outputs": [
    {
     "name": "stdout",
     "output_type": "stream",
     "text": [
      "['ab', 'ef', 'yzcd']\n"
     ]
    }
   ],
   "source": [
    "str='abcdefcdyzcd'\n",
    "print(str.split('cd',2))"
   ]
  },
  {
   "cell_type": "code",
   "execution_count": 9,
   "metadata": {},
   "outputs": [
    {
     "name": "stdout",
     "output_type": "stream",
     "text": [
      "3\n"
     ]
    }
   ],
   "source": [
    "str='abababadaadbbaccabc'\n",
    "print(str.count('ab',-17,-1))"
   ]
  },
  {
   "cell_type": "code",
   "execution_count": 23,
   "metadata": {},
   "outputs": [
    {
     "name": "stdout",
     "output_type": "stream",
     "text": [
      "(1, 2, 3, 4)\n",
      "140310754125776\n",
      "(1, 2, 3, 4)\n",
      "140310754125776\n"
     ]
    }
   ],
   "source": [
    "import copy\n",
    "\n",
    "tup1 = (1,2,3,4)\n",
    "print(tup1)\n",
    "print(id(tup1))\n",
    "\n",
    "tup2 = copy.deepcopy(tup1)\n",
    "print(tup2)\n",
    "print(id(tup2))"
   ]
  },
  {
   "cell_type": "code",
   "execution_count": 40,
   "metadata": {},
   "outputs": [
    {
     "name": "stdout",
     "output_type": "stream",
     "text": [
      "140310400548784\n",
      "140310398924560\n"
     ]
    }
   ],
   "source": [
    "tup1 = (1,2,3,4,5)\n",
    "tup2 = tup1[:4]\n",
    "print(id(tup1))\n",
    "print(id(tup2))"
   ]
  },
  {
   "cell_type": "code",
   "execution_count": 47,
   "metadata": {},
   "outputs": [
    {
     "name": "stdout",
     "output_type": "stream",
     "text": [
      "('python', 'python', 'python', 'python')\n",
      "<class 'tuple'>\n"
     ]
    }
   ],
   "source": [
    "init_tuple = ('python',) * 4\n",
    "print(init_tuple)\n",
    "print(type(init_tuple))"
   ]
  },
  {
   "cell_type": "code",
   "execution_count": 37,
   "metadata": {},
   "outputs": [
    {
     "name": "stdout",
     "output_type": "stream",
     "text": [
      "140310403665824\n",
      "140310403665824\n"
     ]
    }
   ],
   "source": [
    "lst1 = [1,2,3,4,5]\n",
    "lst2 = lst1[:]\n",
    "lst3 = lst\n",
    "print(id(lst1))\n",
    "\n",
    "print(id(lst3))"
   ]
  },
  {
   "cell_type": "code",
   "execution_count": 49,
   "metadata": {},
   "outputs": [
    {
     "name": "stdout",
     "output_type": "stream",
     "text": [
      "((1, 2), (1, 2), (1, 2), (1, 2), (1, 2), (1, 2), (1, 2))\n",
      "4\n"
     ]
    }
   ],
   "source": [
    "init_tuple = ((1, 2),) * 7\n",
    "print(init_tuple)\n",
    "print(len(init_tuple[3:8]))"
   ]
  },
  {
   "cell_type": "code",
   "execution_count": 52,
   "metadata": {},
   "outputs": [
    {
     "name": "stdout",
     "output_type": "stream",
     "text": [
      "dict_items([('c', 97), ('a', 96), ('b', 98)])\n"
     ]
    }
   ],
   "source": [
    "_ = {'c': 97, 'a': 96, 'b': 98}\n",
    "print(_.items())"
   ]
  },
  {
   "cell_type": "code",
   "execution_count": 54,
   "metadata": {},
   "outputs": [
    {
     "name": "stdout",
     "output_type": "stream",
     "text": [
      "False\n"
     ]
    }
   ],
   "source": [
    "rec = {\"Name\" : \"Python\", \"Age\":\"20\"}\n",
    "r = rec.copy()\n",
    "print(id(r) == id(rec))"
   ]
  },
  {
   "cell_type": "code",
   "execution_count": 60,
   "metadata": {},
   "outputs": [],
   "source": [
    "import copy\n",
    "lst = [1,2,3,[1,2,3]]\n",
    "lst2 = copy.deepcopy(lst)"
   ]
  },
  {
   "cell_type": "code",
   "execution_count": 61,
   "metadata": {},
   "outputs": [
    {
     "name": "stdout",
     "output_type": "stream",
     "text": [
      "140310401846800\n",
      "140310401855568\n"
     ]
    }
   ],
   "source": [
    "print(id(lst))\n",
    "print(id(lst2))"
   ]
  },
  {
   "cell_type": "code",
   "execution_count": 70,
   "metadata": {},
   "outputs": [
    {
     "name": "stdout",
     "output_type": "stream",
     "text": [
      "example\n"
     ]
    }
   ],
   "source": [
    "str='example'\n",
    "print(str.center(2,'*'))"
   ]
  },
  {
   "cell_type": "code",
   "execution_count": 21,
   "metadata": {},
   "outputs": [
    {
     "name": "stdout",
     "output_type": "stream",
     "text": [
      " vinay chakri\n"
     ]
    }
   ],
   "source": [
    "x=\" vinay\"\n",
    "y=\" chakri\"\n",
    "print(x+ '' +y)\n"
   ]
  },
  {
   "cell_type": "code",
   "execution_count": 25,
   "metadata": {},
   "outputs": [
    {
     "name": "stdout",
     "output_type": "stream",
     "text": [
      "Hello world!!!!!!!\n"
     ]
    }
   ],
   "source": [
    "print(\"Hello world!!!!!!!\")"
   ]
  },
  {
   "cell_type": "code",
   "execution_count": 28,
   "metadata": {},
   "outputs": [
    {
     "name": "stdout",
     "output_type": "stream",
     "text": [
      "['honda', 'hero', 'bajaj']\n"
     ]
    }
   ],
   "source": [
    "x=[\"honda\",\"hero\",\"bajaj\"]\n",
    "print(x)"
   ]
  },
  {
   "cell_type": "code",
   "execution_count": 34,
   "metadata": {},
   "outputs": [
    {
     "ename": "SyntaxError",
     "evalue": "invalid syntax (<ipython-input-34-12e3b47c6d3a>, line 1)",
     "output_type": "error",
     "traceback": [
      "\u001b[0;36m  File \u001b[0;32m\"<ipython-input-34-12e3b47c6d3a>\"\u001b[0;36m, line \u001b[0;32m1\u001b[0m\n\u001b[0;31m    x=['honda']:\u001b[0m\n\u001b[0m               ^\u001b[0m\n\u001b[0;31mSyntaxError\u001b[0m\u001b[0;31m:\u001b[0m invalid syntax\n"
     ]
    }
   ],
   "source": [
    "x=['honda']"
   ]
  },
  {
   "cell_type": "code",
   "execution_count": 36,
   "metadata": {},
   "outputs": [],
   "source": [
    "bikes = ['trek', 'redline','giant']"
   ]
  },
  {
   "cell_type": "code",
   "execution_count": 39,
   "metadata": {},
   "outputs": [],
   "source": [
    "chakri=bikes[2]"
   ]
  },
  {
   "cell_type": "code",
   "execution_count": 40,
   "metadata": {},
   "outputs": [
    {
     "name": "stdout",
     "output_type": "stream",
     "text": [
      "giant\n"
     ]
    }
   ],
   "source": [
    "print(chakri)"
   ]
  },
  {
   "cell_type": "code",
   "execution_count": 41,
   "metadata": {},
   "outputs": [],
   "source": [
    "chakri = bikes[-1]"
   ]
  },
  {
   "cell_type": "code",
   "execution_count": 42,
   "metadata": {},
   "outputs": [
    {
     "name": "stdout",
     "output_type": "stream",
     "text": [
      "giant\n"
     ]
    }
   ],
   "source": [
    "print(chakri)"
   ]
  },
  {
   "cell_type": "code",
   "execution_count": 43,
   "metadata": {},
   "outputs": [],
   "source": [
    "chakri = bikes[-3]"
   ]
  },
  {
   "cell_type": "code",
   "execution_count": 44,
   "metadata": {},
   "outputs": [
    {
     "name": "stdout",
     "output_type": "stream",
     "text": [
      "trek\n"
     ]
    }
   ],
   "source": [
    "print(chakri\n",
    "    )"
   ]
  },
  {
   "cell_type": "code",
   "execution_count": 47,
   "metadata": {},
   "outputs": [
    {
     "name": "stdout",
     "output_type": "stream",
     "text": [
      "redline"
     ]
    }
   ],
   "source": [
    "for bike in bikes[1]:\n",
    "    print(bike,end='')"
   ]
  },
  {
   "cell_type": "code",
   "execution_count": 57,
   "metadata": {},
   "outputs": [
    {
     "name": "stdout",
     "output_type": "stream",
     "text": [
      "['chakri']\n",
      "['chakri', 'vinay']\n",
      "['chakri', 'vinay', 'ahad']\n",
      "['chakri', 'vinay', 'ahad', 'mani']\n"
     ]
    }
   ],
   "source": [
    "name = []\n",
    "name.append('chakri')\n",
    "print(name)\n",
    "name.append('vinay')\n",
    "print(name)\n",
    "name.append('ahad')\n",
    "print(name)\n",
    "name.append('mani')\n",
    "print(name)"
   ]
  },
  {
   "cell_type": "code",
   "execution_count": 63,
   "metadata": {},
   "outputs": [
    {
     "name": "stdout",
     "output_type": "stream",
     "text": [
      "['trek', 'redline', 'giant']\n"
     ]
    }
   ],
   "source": [
    "bikes = []\n",
    "bikes.append('trek')\n",
    "bikes.append('redline')\n",
    "bikes.append('giant')\n",
    "print(bikes)"
   ]
  },
  {
   "cell_type": "code",
   "execution_count": 72,
   "metadata": {},
   "outputs": [
    {
     "name": "stdout",
     "output_type": "stream",
     "text": [
      "['xyz']\n",
      "['xyz', 'xyz']\n",
      "['xyz', 'xyz', 'xyz']\n",
      "['xyz', 'xyz', 'xyz', 'xyz']\n",
      "['xyz', 'xyz', 'xyz', 'xyz', 'xyz']\n",
      "['xyz', 'xyz', 'xyz', 'xyz', 'xyz', 'xyz']\n",
      "['xyz', 'xyz', 'xyz', 'xyz', 'xyz', 'xyz', 'xyz']\n",
      "['xyz', 'xyz', 'xyz', 'xyz', 'xyz', 'xyz', 'xyz', 'xyz']\n",
      "['xyz', 'xyz', 'xyz', 'xyz', 'xyz', 'xyz', 'xyz', 'xyz', 'xyz']\n",
      "['xyz', 'xyz', 'xyz', 'xyz', 'xyz', 'xyz', 'xyz', 'xyz', 'xyz', 'xyz']\n",
      "['xyz', 'xyz', 'xyz', 'xyz', 'xyz', 'xyz', 'xyz', 'xyz', 'xyz', 'xyz', 'xyz']\n"
     ]
    }
   ],
   "source": [
    "chakri = []\n",
    "for x in range (1, 12):\n",
    "    chakri.append('xyz')\n",
    "    print(chakri)\n",
    "        "
   ]
  },
  {
   "cell_type": "code",
   "execution_count": 75,
   "metadata": {},
   "outputs": [
    {
     "name": "stdout",
     "output_type": "stream",
     "text": [
      "[0]\n",
      "[0, 1]\n",
      "[0, 1, 8]\n",
      "[0, 1, 8, 27]\n",
      "[0, 1, 8, 27, 64]\n"
     ]
    }
   ],
   "source": [
    "cubes_of_number = []\n",
    "\n",
    "for num in range(0,5):\n",
    "    cubes_of_number.append(num**3)\n",
    "    print(cubes_of_number)"
   ]
  },
  {
   "cell_type": "code",
   "execution_count": 77,
   "metadata": {},
   "outputs": [],
   "source": [
    "squares = [x**2 for x in range(1,11)]"
   ]
  },
  {
   "cell_type": "code",
   "execution_count": 82,
   "metadata": {},
   "outputs": [
    {
     "name": "stdout",
     "output_type": "stream",
     "text": [
      "[1, 4, 9, 16, 25, 36, 49, 64, 81, 100]\n"
     ]
    }
   ],
   "source": [
    "print(squares)"
   ]
  },
  {
   "cell_type": "markdown",
   "metadata": {},
   "source": [
    "def read_list():\n",
    "    \"\"\"\n",
    "    read a list of integers from stdin\n",
    "    \"\"\"\n",
    "    return list(map(int, input().split()))\n",
    "   \n",
    "\n",
    "number = int(input(\"Enter the max. number you want to enter in a Array: \"))\n",
    "emptylist = []\n",
    "for size in range(0,number):\n",
    "    empty_list = read_list().insert()\n",
    "    \n",
    "\n"
   ]
  },
  {
   "cell_type": "code",
   "execution_count": 5,
   "metadata": {},
   "outputs": [
    {
     "name": "stdout",
     "output_type": "stream",
     "text": [
      "[-6]\n"
     ]
    }
   ],
   "source": [
    "print(list1)"
   ]
  },
  {
   "cell_type": "code",
   "execution_count": null,
   "metadata": {},
   "outputs": [],
   "source": []
  }
 ],
 "metadata": {
  "kernelspec": {
   "display_name": "Python 3",
   "language": "python",
   "name": "python3"
  },
  "language_info": {
   "codemirror_mode": {
    "name": "ipython",
    "version": 3
   },
   "file_extension": ".py",
   "mimetype": "text/x-python",
   "name": "python",
   "nbconvert_exporter": "python",
   "pygments_lexer": "ipython3",
   "version": "3.7.4"
  }
 },
 "nbformat": 4,
 "nbformat_minor": 4
}
